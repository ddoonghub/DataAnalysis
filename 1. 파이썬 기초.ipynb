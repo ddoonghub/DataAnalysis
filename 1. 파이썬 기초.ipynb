{
 "cells": [
  {
   "attachments": {
    "megait_main_logo.png": {
     "image/png": "[encoded data removed]"
    }
   },
   "cell_type": "markdown",
   "metadata": {},
   "source": [
    "![megait_main_logo.png](attachment:megait_main_logo.png)"
   ]
  },
  {
   "cell_type": "markdown",
   "metadata": {},
   "source": [
    "# 입문자를 위한, 머신러닝 기초과정  "
   ]
  },
  {
   "cell_type": "markdown",
   "metadata": {},
   "source": [
    "### 워밍업 \n",
    "\n",
    "- 파이썬 Python ?\n",
    "  https://wikidocs.net/6\n",
    "\n",
    "- 데이터 분석?\n",
    "  https://miro.medium.com/max/1986/1*jd_xgOzAFw7rBklREtgOTQ.png"
   ]
  },
  {
   "cell_type": "markdown",
   "metadata": {},
   "source": [
    "### 파이썬 Python 설치 (IDE : Jupyter notebook )"
   ]
  },
  {
   "cell_type": "markdown",
   "metadata": {},
   "source": [
    "1) anaconda 사이트 접속 ( https://www.anaconda.com/distribution/ )\n",
    "\n",
    "2) 설치 참조 자료 : \n",
    "http://www.openwith.net/wp-content/uploads/2018/01/%EC%95%84%EB%82%98%EC%BD%98%EB%8B%A4%EC%99%80-%EC%A3%BC%ED%94%BC%ED%84%B0.pdf"
   ]
  },
  {
   "cell_type": "markdown",
   "metadata": {},
   "source": [
    "### 쥬피터 노트북 사용법"
   ]
  },
  {
   "cell_type": "markdown",
   "metadata": {},
   "source": [
    "**Jupyter notebook 특징**\n",
    "- 1) 주피터 노트북은 파이썬 코드를 웹 브라우저에서 실행할 수 있도록 해주는 대화식(Interactive) 환경\n",
    "- 2) 코드 작성 뿐만 아니라 메모까지 쉽게 작성 ( 주피터 노트북 만으로 분석 리포트 작성 )\n",
    "- 3) 파이썬 뿐만 아니라 R, Java, C 등 수많은 언어를 사용할 수 있음\n",
    "\n",
    "-\n",
    "\n",
    "단축키는 위의 메뉴창에 `Help -> Keyboard Shortcuts`에서 확인할 수 있고, 코드 작성을 위한 필수적인 주요 단축키는 다음과 같음.\n",
    "\n",
    "\n",
    "**블록 선택 모드 (왼쪽의 표시가 \"파란색\" )에 작동하는 단축키들**\n",
    "- `m` : 블록을 Markdown 블록으로 변환합니다. Markdown 모드는 메모를 작성하기에 적합합니다.\n",
    "- `y` : 블록을 Code 블록으로 변환합니다.\n",
    "- `a` : 현재 선택되어 있는 블록의 위에 새로운 블록을 추가합니다. (Above)\n",
    "- `b` : 현재 선택되어 있는 블록의 아래에 새로운 블록을 추가합니다. (Below)\n",
    "- `dd` : 현재 선택되어 있는 블록을 지웁니다. (Delete)\n",
    "\n",
    "**작성 모드 (왼쪽의 표시가 \"초록색\" )에 작동하는 단축키들**\n",
    "- `Shift + Enter` : 현재 선택한 블록의 코드를 실행합니다. \n",
    "- `Shift + Tab` : 툴팁 도움말"
   ]
  },
  {
   "cell_type": "code",
   "execution_count": null,
   "metadata": {},
   "outputs": [],
   "source": []
  },
  {
   "cell_type": "markdown",
   "metadata": {},
   "source": [
    "]"
   ]
  },
  {
   "cell_type": "markdown",
   "metadata": {},
   "source": [
    "### 사칙연산"
   ]
  },
  {
   "cell_type": "code",
   "execution_count": 1,
   "metadata": {},
   "outputs": [
    {
     "data": {
      "text/plain": [
       "0.7142857142857143"
      ]
     },
     "execution_count": 1,
     "metadata": {},
     "output_type": "execute_result"
    }
   ],
   "source": [
    "# Ctrl + /\n",
    "# Ctrl + ]    /   [\n",
    "1 + 11\n",
    "7 - 19\n",
    "3 * 5\n",
    "5 / 7 \n"
   ]
  },
  {
   "cell_type": "code",
   "execution_count": 7,
   "metadata": {},
   "outputs": [
    {
     "data": {
      "text/plain": [
       "1"
      ]
     },
     "execution_count": 7,
     "metadata": {},
     "output_type": "execute_result"
    }
   ],
   "source": [
    "2 ** 3     # 2의 세제곱\n",
    "8 % 3      # 8에서 7을 나눈 나머지 (%) \n",
    "8 // 7     # 8에서 7을 나눈 몫 (//)"
   ]
  },
  {
   "cell_type": "code",
   "execution_count": null,
   "metadata": {},
   "outputs": [],
   "source": [
    "True\n",
    "False"
   ]
  },
  {
   "cell_type": "markdown",
   "metadata": {},
   "source": [
    "### 등호 / 부등호 연산자"
   ]
  },
  {
   "cell_type": "code",
   "execution_count": 13,
   "metadata": {},
   "outputs": [
    {
     "data": {
      "text/plain": [
       "True"
      ]
     },
     "execution_count": 13,
     "metadata": {},
     "output_type": "execute_result"
    }
   ],
   "source": [
    "# 1에서 2를 더한 결과는 3이므로, 참(True)이 나옵니다.\n",
    "1 + 2 == 3\n",
    "\n",
    "# 1에서 2를 더한 결과는 4가 아니기 때문에, 거짓(False)이 나옵니다.\n",
    "1 + 2 == 4\n",
    "\n",
    "# 1 + 2는 3이며, 이는 4가 아닙니다. 그러므로 != 연산을 하면 참(True)이 나옵니다.\n",
    "1 + 2 != 4\n",
    "\n",
    "# 1 + 2는 3이며, 이는 4보다 작습니다. 그러므로 < 연산을 하면 결과는 참(True)이 나옵니다.\n",
    "1 + 2 < 4\n",
    "\n",
    "# 정 반대 연산자(>)를 사용하면 결과는 자연스럽게 거짓(False)이 나온다는 것을 알 수 있습니다.\n",
    "1 + 2 > 4\n",
    "\n",
    "# 하지만 미만(<) 연산자가 아닌 이하(<=) 연산자를 사용하면 결과가 달라집니다.\n",
    "# 1 + 2는 3이며, 이는 3보다 작거나 같기 때문에 결과는 참(True)이 나옵니다.\n",
    "1 + 2 <= 3\n",
    "\n",
    "# 10을 2로 나눈 나머지는 0이므로 참(Truwe)이 나옵니다.\n",
    "# 즉, 이 코드는 짝수와 홀수를 구분하는 용도로 쓰입니다.\n",
    "10 % 2 == 0\n",
    "\n",
    "# 반면, 11을 2로 나눈 나머지는 0이 아니므로 거짓(False)이 나옵니다.\n",
    "11 % 2 == 0\n",
    "\n",
    "# 12를 2로 나눈 나머지는 0이고, 마찬가지로 3으로 나눈 나머지도 0입니다.\n",
    "# 그러므로 결과는 참(True)이 나옵니다.\n",
    "12 % 2 == 0 and 12 % 3 == 0\n",
    "\n",
    "# 14는 2로 나눈 나머지가 0이지만, 3으로 나눈 나머지는 0이 아닙니다.\n",
    "# 그러므로 결과는 거짓(False)이 나옵니다.\n",
    "(14 % 2 == 0) and (14 % 3 == 0)\n",
    "\n",
    "# 반면 or 조건은 둘 중 하나만 참이여도 참이 되기 때문에,\n",
    "# 아래의 코드는 결과적으로 참(True)이 출력됩니다.\n",
    "14 % 2 == 0 or 14 % 3 == 0"
   ]
  },
  {
   "cell_type": "code",
   "execution_count": null,
   "metadata": {},
   "outputs": [],
   "source": [
    "11 + 22 != 33\n",
    "#11 + 22 == 44\n",
    "#11 + 22 != 44\n",
    "#11 + 22 < 44\n",
    "#11 + 22 > 44\n",
    "#11 + 22 < 33\n",
    "#11 + 22 <= 33\n",
    "#11 + 22 > 33\n",
    "#11 + 22 >= 33\n",
    "#10 % 2 == 0\n",
    "#11 % 2 == 0\n",
    "#12 % 2 == 0 and 12 % 3 == 0\n",
    "#14 % 2 == 0) and (14 % 3 == 0)\n",
    "#14 % 2 == 0 or 14 % 3 == 0"
   ]
  },
  {
   "cell_type": "markdown",
   "metadata": {},
   "source": [
    "### 변수 Variables"
   ]
  },
  {
   "cell_type": "code",
   "execution_count": 8,
   "metadata": {},
   "outputs": [
    {
     "data": {
      "text/plain": [
       "8"
      ]
     },
     "execution_count": 8,
     "metadata": {},
     "output_type": "execute_result"
    }
   ],
   "source": [
    "# a 변수에 3을 할당 합니다.\n",
    "a = 3\n",
    "# b 변수에 5를 할당 합니다.\n",
    "b = 5\n",
    "# 변수 a의 값 3과 변수 b의 값 5가 더해져 결과는 8이 나옵니다.\n",
    "a + b\n",
    "\n",
    "\n",
    "# a에는 3이 b에는 13이 할당 됩니다.\n",
    "a = 3\n",
    "b = 13\n",
    "# 변수 a의 값 3과 변수 b의 값 13가 더해져 결과는 16이 나옵니다.\n",
    "# 위의 코드와 동일한데도 결과는 다른 값이 출력됩니다. 이는 변수에 다른 값을 할당했기 때문입니다.\n",
    "a + b\n",
    "\n",
    "\n",
    "# a라는 변수에 3을 할당합니다.\n",
    "a = 3\n",
    "# a라는 변수를 활용하여 덧셈 연산을 한 뒤 뒤 다시 a에 할당할 수 있습니다.\n",
    "a = a + 1\n",
    "\n",
    "# 참고사항 : 쥬피터 노트북은 가장 마지막의 연산값만 출력합니다.\n",
    "# 중간값 출력을 원한다면 print()를 활용하면 됩니다.\n",
    "# a의 값은 4이므로 4가 출력됩니다.\n",
    "print(a)\n",
    "\n",
    "# 같은 방식으로 a에 새로운 값을 할당해보겠습니다.\n",
    "# 이번에는 a가 4이므로 여기에 2를 더하면 6이 되며, 이 값을 a에 다시 할당할 수 있습니다.\n",
    "a = a + 2\n",
    "a"
   ]
  },
  {
   "cell_type": "code",
   "execution_count": 14,
   "metadata": {},
   "outputs": [
    {
     "name": "stdout",
     "output_type": "stream",
     "text": [
      "44\n"
     ]
    },
    {
     "data": {
      "text/plain": [
       "66"
      ]
     },
     "execution_count": 14,
     "metadata": {},
     "output_type": "execute_result"
    }
   ],
   "source": [
    "# 영문, 숫자+영문, 예약어\n",
    "\n",
    "a = 55\n",
    "b = 66\n",
    "\n",
    "a + b\n",
    "\n",
    "a = 33\n",
    "b = 44\n",
    "\n",
    "a + b\n",
    "\n",
    "a = 33\n",
    "a = a + 11\n",
    "\n",
    "print(a)\n",
    "\n",
    "a = a + 22\n",
    "a"
   ]
  },
  {
   "cell_type": "markdown",
   "metadata": {},
   "source": [
    "]]"
   ]
  },
  {
   "cell_type": "markdown",
   "metadata": {},
   "source": [
    "### Boolean \n",
    "\n",
    "- 불(bool)은 참(True)과 거짓(False)만을 나타내는 개념\n",
    "- True 는 1, False 는 0 과 같은 의미로 볼 수 있음"
   ]
  },
  {
   "cell_type": "code",
   "execution_count": null,
   "metadata": {},
   "outputs": [],
   "source": [
    "# 파이썬에서는 True 라는 텍스트로 참을 표현할 수 있습니다.\n",
    "True\n",
    "\n",
    "# 정 반대로 거짓은 False로 표현합니다.\n",
    "False\n",
    "\n",
    "# True와 1은 동일합니다. 반대로 True == 0을 하면 False가 나올 것입니다.\n",
    "True == 1\n",
    "\n",
    "# False와 0은 동일합니다. 반대로 False == 1을 하면 False가 나올 것입니다.\n",
    "False == 0\n",
    "\n",
    "# True와 \"True\"는 동일하지 않기 때문에 비교하면 False가 나옵니다.\n",
    "True == \"True\"\n",
    "\n",
    "# 비슷하게 False \"False\"는 동일하지 않기 때문에 False라고 나옵니다.\n",
    "False == \"False\""
   ]
  },
  {
   "cell_type": "code",
   "execution_count": 13,
   "metadata": {},
   "outputs": [
    {
     "data": {
      "text/plain": [
       "True"
      ]
     },
     "execution_count": 13,
     "metadata": {},
     "output_type": "execute_result"
    }
   ],
   "source": [
    "1 + 2 != 4"
   ]
  },
  {
   "cell_type": "markdown",
   "metadata": {},
   "source": [
    "###  문자열 (1)"
   ]
  },
  {
   "cell_type": "code",
   "execution_count": 10,
   "metadata": {},
   "outputs": [
    {
     "data": {
      "text/plain": [
       "'12'"
      ]
     },
     "execution_count": 10,
     "metadata": {},
     "output_type": "execute_result"
    }
   ],
   "source": [
    "# 가령 정수형(1)과 문자열(\"2\")를 더할 경우 에러가 납니다.\n",
    "# 왜냐하면 정수형과 문자열을 덧셈을 할 수 없기 때문입니다.\n",
    "# 1 + \"2\"\n",
    "\n",
    "\n",
    "# 가령 위 에러는 이렇게 수정할 수 있습니다.\n",
    "1 + 2\n",
    "\n",
    "\n",
    "# 또는 이렇게도 수정할 수 있습니다.\n",
    "# (파이썬에서는 문자열끼리 덧셈(+)을 하면 두 문자열을 앞뒤로 붙입니다)\n",
    "\"1\" + \"2\""
   ]
  },
  {
   "cell_type": "code",
   "execution_count": 12,
   "metadata": {},
   "outputs": [
    {
     "data": {
      "text/plain": [
       "'hello world'"
      ]
     },
     "execution_count": 12,
     "metadata": {},
     "output_type": "execute_result"
    }
   ],
   "source": [
    "\"hello\" + ' ' + 'world'"
   ]
  },
  {
   "cell_type": "markdown",
   "metadata": {},
   "source": [
    "#### 문자열 포맷팅 formatting"
   ]
  },
  {
   "cell_type": "code",
   "execution_count": 9,
   "metadata": {},
   "outputs": [
    {
     "data": {
      "text/plain": [
       "'[Accuracy] Model A = 0.98765 Model B = 0.123'"
      ]
     },
     "execution_count": 9,
     "metadata": {},
     "output_type": "execute_result"
    }
   ],
   "source": [
    "# 먼저 apple와 days라는 두 개의 변수를 할당합니다.\n",
    "apple = 3\n",
    "days = 5\n",
    "\n",
    "# 파이썬의 format이라는 기능을 사용합니다.\n",
    "# .format() 안에 두 개의 변수(apple, days)를 순서대로 넣고,\n",
    "# 이 순서를 중괄호를 활용해 {0}, {1} 로 문자열 안에 적습니다.\n",
    "# 단 프로그래밍 언어에서 모든 숫자의 시작은 0부터 시작한다는 것에 유의합니다.\n",
    "\"I ate {0} apple for {1} days\".format(apple, days)\n",
    "\n",
    "\n",
    "# 새로운 버전의 파이썬(3.6+)은\n",
    "# 아래와 같이 더 간결한 방식으로 포메팅을 할 수 있습니다.\n",
    "f\"I ate {apple} bananas for {days} days.\"\n",
    "\n",
    "\n",
    "\n",
    "# 두 개의 소수점 값을 변수에 할당합니다.\n",
    "float_a = 0.987654321\n",
    "float_b = 0.123456789\n",
    "\n",
    "# float_a 라는 변수에 할당한 값은 소수점 세 자리까지(0:.3)\n",
    "# float_b 에 할당한 값은 소수점 다섯 자리까지(1:.5) 출력합니다.\n",
    "\"[Accuracy] Model A = {0:.3} Model B = {1:.5}\".format(float_a, float_b)\n",
    "\n",
    "# 당연하지만 신버전 포메팅을 사용해서 자릿수를 줄여서 출력할 수도 있습니다.\n",
    "f\"[Accuracy] Model A = {float_a:.5f} Model B = {float_b:.3f}\""
   ]
  },
  {
   "cell_type": "code",
   "execution_count": 4,
   "metadata": {},
   "outputs": [
    {
     "data": {
      "text/plain": [
       "\"Henry's job\""
      ]
     },
     "execution_count": 4,
     "metadata": {},
     "output_type": "execute_result"
    }
   ],
   "source": [
    "\"Henry's job\""
   ]
  },
  {
   "cell_type": "markdown",
   "metadata": {},
   "source": [
    "]"
   ]
  },
  {
   "cell_type": "markdown",
   "metadata": {},
   "source": [
    "### 문자열 (2)"
   ]
  },
  {
   "cell_type": "code",
   "execution_count": 13,
   "metadata": {},
   "outputs": [
    {
     "data": {
      "text/plain": [
       "'Hello, World!'"
      ]
     },
     "execution_count": 13,
     "metadata": {},
     "output_type": "execute_result"
    }
   ],
   "source": [
    "message = \"Hello, World!\"\n",
    "message"
   ]
  },
  {
   "cell_type": "code",
   "execution_count": 14,
   "metadata": {},
   "outputs": [
    {
     "name": "stdout",
     "output_type": "stream",
     "text": [
      "H\n",
      "e\n",
      "----\n",
      "!\n",
      "d\n"
     ]
    }
   ],
   "source": [
    "# 문자열의 n 번째 알파벳을 출력할 수 있습니다. 이를 인덱싱(Indexing)이라고 합니다.\n",
    "# 앞서 말씀 드린대로, 모든 프로그래밍 언어는 0부터 숫자를 셉니다.\n",
    "print(message[0])\n",
    "print(message[1])\n",
    "\n",
    "print(\"----\")\n",
    "\n",
    "# 뒤에서부터 문자를 출력할 때는 -1부터 시작합니다.\n",
    "print(message[-1])\n",
    "print(message[-2])"
   ]
  },
  {
   "cell_type": "code",
   "execution_count": 15,
   "metadata": {},
   "outputs": [
    {
     "data": {
      "text/plain": [
       "'o, World!'"
      ]
     },
     "execution_count": 15,
     "metadata": {},
     "output_type": "execute_result"
    }
   ],
   "source": [
    "# 문자열의 특정 부분만 출력할 수 있습니다. 이를 슬라이싱(slicing)이라고 합니다.\n",
    "# 0:4는 0 번째부터 4번째의 바로 앞인 3 번째까지 출력합니다.\n",
    "message[0:4]\n",
    "\n",
    "\n",
    "# 위 코드에서는 0을 생략할 수 있습니다.\n",
    "message[:4]\n",
    "\n",
    "\n",
    "# 비슷한 원리로 끝나는 부분도 생략 가능합니다.\n",
    "# 이 경우는 문자열의 맨 마지막까지 슬라이싱합니다.\n",
    "message[4:]"
   ]
  },
  {
   "cell_type": "code",
   "execution_count": 35,
   "metadata": {},
   "outputs": [
    {
     "data": {
      "text/plain": [
       "True"
      ]
     },
     "execution_count": 35,
     "metadata": {},
     "output_type": "execute_result"
    }
   ],
   "source": [
    "\"Hell\" in message\n",
    "\n",
    "\n",
    "# in 을 통해 문자열 안에 특정 문자 내지는 문자열이 있는지 확인 할 수 있습니다.\n",
    "# Hello World에는 H가 있기 때문에 참(True)이 나옵니다.\n",
    "print(\"H\" in message)\n",
    "\n",
    "# 하지만 Hello World에는 A가 없기 때문에 참(True)이 나옵니다.\n",
    "print(\"A\" in message)\n",
    "\n",
    "# 파이썬은 대소문자를 구분합니다.\n",
    "# 그러므로 \"H\"는 참(True)이 나오지만 \"h\"는 거짓(False)이 나옵니다.\n",
    "print(\"h\" in message)\n",
    "\n",
    "# 알파벳 뿐만 아니라 문장도 in 연산자를 사용할 수 있습니다.\n",
    "print(\"Hell\" in message)"
   ]
  },
  {
   "cell_type": "code",
   "execution_count": null,
   "metadata": {},
   "outputs": [],
   "source": [
    "# upper() 메소드는 모든 문자를 대문자로 변환해주는 함수입니다.\n",
    "message.upper()\n",
    "\n",
    "\n",
    "# lower() 메소드는 모든 문자를 소문자로 변환해주는 함수입니다.\n",
    "message.lower()\n",
    "\n",
    "# count() 메소드는 문자열 내에 특정 문자열/알파벳이 몇 개 있는지 세줍니다.\n",
    "# 아래 코드는 \"Hello World\"에서 \"o\"라는 알파벳이 몇 개 있는지를 세줍니다.\n",
    "message.count(\"o\")\n",
    "\n",
    "# replace() 메소드는 문자열의 특정 부분을 교체할 수 있습니다.\n",
    "# 다음 코드는 \"Hello World\"에서 H를 J로 교체합니다.\n",
    "message.replace(\"H\", \"J\")\n",
    "\n",
    "# split() 메소드는 문자열을 쪼개서 리스트를 만들 수 있습니다.\n",
    "# split() 안에 특정 문자열을 지정하면 (ex: \" \") 해당 문자열을 기준으로 쪼갭니다.\n",
    "message.split(\" \")\n",
    "\n",
    "# strip() 메소드는 문자열 좌우에 있는 공백을 제거해줍니다.\n",
    "# 결과적으로 \"   Hello World!  \" 문자열이 \"Hello World!\"로 바뀝니다.\n",
    "\"   Hello World!  \".strip()\n"
   ]
  },
  {
   "cell_type": "code",
   "execution_count": 50,
   "metadata": {},
   "outputs": [
    {
     "name": "stdout",
     "output_type": "stream",
     "text": [
      "Hello, World! ['Hello,', 'World!']\n"
     ]
    }
   ],
   "source": [
    "message.lower()\n",
    "message.upper()\n",
    "message.count(\"h\")\n",
    "message.replace(\"H\", \"J\")\n",
    "message_split = message.split(\" \")\n",
    "print(message, message_split)"
   ]
  },
  {
   "cell_type": "code",
   "execution_count": 19,
   "metadata": {},
   "outputs": [
    {
     "data": {
      "text/plain": [
       "['Hello,', 'World!']"
      ]
     },
     "execution_count": 19,
     "metadata": {},
     "output_type": "execute_result"
    }
   ],
   "source": [
    "message.split(' ')"
   ]
  },
  {
   "cell_type": "markdown",
   "metadata": {},
   "source": [
    "### 리스트 List\n",
    "\n",
    "- Python 에서 List 는 다른 개발언어에서 Array(배열) 기능과 유사\n",
    "- 여러 개의 값(숫자, 문자 등) 을 1개로 묶어서 변수에 할당하는 역할"
   ]
  },
  {
   "cell_type": "code",
   "execution_count": 20,
   "metadata": {},
   "outputs": [
    {
     "data": {
      "text/plain": [
       "[1, 3, 5, 7, 9]"
      ]
     },
     "execution_count": 20,
     "metadata": {},
     "output_type": "execute_result"
    }
   ],
   "source": [
    "# 리스트를 만들 때는 대괄호([])를 사용합니다.\n",
    "odd = [1, 3, 5, 7, 9]\n",
    "odd"
   ]
  },
  {
   "cell_type": "code",
   "execution_count": 21,
   "metadata": {},
   "outputs": [
    {
     "name": "stdout",
     "output_type": "stream",
     "text": [
      "1\n",
      "3\n",
      "----\n",
      "9\n",
      "7\n"
     ]
    },
    {
     "data": {
      "text/plain": [
       "[9]"
      ]
     },
     "execution_count": 21,
     "metadata": {},
     "output_type": "execute_result"
    }
   ],
   "source": [
    "# 문자열과 마찬가지로, 인덱싱을 통해 리스트의 n 번째 값을 출력할 수 있습니다.\n",
    "print(odd[0])\n",
    "print(odd[1])\n",
    "\n",
    "print(\"----\")\n",
    "\n",
    "# 뒤에서부터 값을 가져오는 것도 동일합니다.\n",
    "print(odd[-1])\n",
    "print(odd[-2])\n",
    "\n",
    "\n",
    "# 슬라이싱도 동일하게 사용할 수 있습니다.\n",
    "# 아래의 코드는 리스트에서 0번째 값과 4번째 바로 앞에 있는 값(=3번째 값)을 가져옵니다.\n",
    "odd[0:4]\n",
    "\n",
    "# 위 코드에서는 0을 생략할 수 있습니다.\n",
    "odd[:4]\n",
    "\n",
    "# 비슷한 원리로 끝나는 부분도 생략 가능합니다.\n",
    "# 이 경우는 자연스럽게 문자열의 맨 마지막까지 슬라이싱합니다.\n",
    "odd[4:]"
   ]
  },
  {
   "cell_type": "code",
   "execution_count": 22,
   "metadata": {},
   "outputs": [
    {
     "name": "stdout",
     "output_type": "stream",
     "text": [
      "True\n",
      "False\n",
      "True\n"
     ]
    }
   ],
   "source": [
    "# 문자열과 마찬가지로 리스트에 특정값이 포함되어 있는지 확인할 수 있습니다.\n",
    "# 아래의 코드는 odd라는 리스트에 1이 들어가 있는지 확인합니다.\n",
    "print(1 in odd)\n",
    "\n",
    "# odd는 홀수이기 때문에 2는 들어가 있지 않습니다.\n",
    "print(2 in odd)\n",
    "\n",
    "# 하지만 3은 들어가 있는 것을 확인할 수 있습니다.\n",
    "print(3 in odd)"
   ]
  },
  {
   "cell_type": "code",
   "execution_count": null,
   "metadata": {},
   "outputs": [],
   "source": []
  },
  {
   "cell_type": "code",
   "execution_count": 71,
   "metadata": {},
   "outputs": [
    {
     "data": {
      "text/plain": [
       "False"
      ]
     },
     "execution_count": 71,
     "metadata": {},
     "output_type": "execute_result"
    }
   ],
   "source": [
    "# .append() 라는 메소드를 이용하면 리스트에 값을 추가할 수 있습니다.\n",
    "# 다음의 코드는 odd라는 리스트에 11이라는 값을 추가합니다.\n",
    "odd.append(11)\n",
    "odd\n",
    "\n",
    "# 정 반대의 기능을 담당하는 것은 .pop()입니다.\n",
    "# 이 기능을 사용하면 리스트의 마지막 값을 제거합니다.\n",
    "odd.pop()\n",
    "odd\n",
    "\n",
    "\n",
    "# 마지막이 아닌 특정 위치에 있는 값을 지우고 싶다면 del을 사용합니다.\n",
    "# 아래 코드는 odd 리스트에 있는 3번째 값(7)을 제거합니다.\n",
    "del odd[3]\n",
    "odd\n",
    "\n",
    "# 만일 특정한 값을 지우고 싶다면 .remove() 라는 메소드를 사용합니다.\n",
    "# 아래 코드는 리스트에서 값이 3인 숫자만을 제거합니다.\n",
    "odd.remove(3)\n",
    "odd\n",
    "\n",
    "\n",
    "# 만일 맨 뒤가 아닌 특정 위치에 값을 넣고 싶다면 .insert()를 사용합니다.\n",
    "# 아래의 코드는 odd라는 리스트의 0번째에 3이라는 숫자를 집어넣습니다.\n",
    "odd.insert(0, 3)\n",
    "odd\n",
    "\n",
    "# .sort()는 리스트에 있는 값을 정렬합니다.\n",
    "# 숫자는 작은 순으로, 알파벳은 빠른 순으로('a' - 'z') 정렬합니다.\n",
    "odd.sort()\n",
    "odd\n",
    "\n",
    "# 리스트에서는 덧셈(+)을 사용해서 리스트와 리스트를 합쳐줄 수 있습니다.\n",
    "# 아래의 코드는 odd라는 리스트와 [13, 15, 17, 19] 라는 리스트를 앞뒤로 붙여줍니다.\n",
    "odd = odd + [13, 15, 17, 19]\n",
    "odd\n",
    "\n",
    "\n",
    "# 리스트의 인덱싱을 활용하면 특정한 위치에 있는 값을 바꿔줄 수 있습니다.\n",
    "# 아래의 코드는 odd라는 리스트의 3번째와 5번째에 있는 값을 -1로 변경해줍니다.\n",
    "odd[3] = -1\n",
    "odd[5] = -1\n",
    "odd"
   ]
  },
  {
   "cell_type": "markdown",
   "metadata": {},
   "source": [
    "#### List : Call by reference"
   ]
  },
  {
   "cell_type": "code",
   "execution_count": 1,
   "metadata": {
    "colab": {},
    "colab_type": "code",
    "id": "RhNFv_yoCTvH",
    "outputId": "334a38b7-a21e-455e-9714-ed3bc8801f38"
   },
   "outputs": [
    {
     "name": "stdout",
     "output_type": "stream",
     "text": [
      "[100, 2, 3, 4, 5]\n"
     ]
    }
   ],
   "source": [
    "a = [1,2,3,4,5]\n",
    "\n",
    "b = a\n",
    "b[0] = 100\n",
    "\n",
    "print(a)\n",
    "print(b)"
   ]
  },
  {
   "cell_type": "code",
   "execution_count": 2,
   "metadata": {
    "colab": {},
    "colab_type": "code",
    "id": "n2twtYkyCTvJ",
    "outputId": "4124ca2a-269f-4438-ad94-333e110e338b",
    "scrolled": true
   },
   "outputs": [
    {
     "name": "stdout",
     "output_type": "stream",
     "text": [
      "2877108753160\n",
      "2877108753160\n"
     ]
    }
   ],
   "source": [
    "print(id(a))   # id() 변수가 저장된 메모리 주소값을 알려주는 함수\n"
   ]
  },
  {
   "cell_type": "code",
   "execution_count": 0,
   "metadata": {
    "colab": {},
    "colab_type": "code",
    "id": "wbJFZFn_CTvL",
    "outputId": "9c0ebcde-b91d-4596-a9a3-ba5ae5b2c107"
   },
   "outputs": [
    {
     "name": "stdout",
     "output_type": "stream",
     "text": [
      "[1, 2, 3, 4, 5]\n",
      "[100, 2, 3, 4, 5]\n"
     ]
    }
   ],
   "source": [
    "a = [1,2,3,4,5]\n",
    "\n",
    "b = a.copy()\n",
    "b[0] = 100\n",
    "\n",
    "print(a)\n",
    "print(b)"
   ]
  },
  {
   "cell_type": "code",
   "execution_count": 0,
   "metadata": {
    "colab": {},
    "colab_type": "code",
    "id": "98HK_jEXCTvO",
    "outputId": "f515ee9d-9ecd-466b-9d15-0fa6f783f7e5"
   },
   "outputs": [
    {
     "name": "stdout",
     "output_type": "stream",
     "text": [
      "200\n"
     ]
    }
   ],
   "source": [
    "a = 200\n",
    "b = a\n",
    "\n",
    "a = 300\n",
    "print(b)      # List(이외 dict, set 형도 동일함) 형이 아닐 경우는 Call by reference 발생하지 않음 (Call by Value)"
   ]
  },
  {
   "cell_type": "code",
   "execution_count": null,
   "metadata": {},
   "outputs": [],
   "source": []
  },
  {
   "cell_type": "markdown",
   "metadata": {},
   "source": [
    "### 사전형 Dictionary\n",
    "\n",
    "- 딕셔너리는 리스트와 유사\n",
    "- 리스트와의 차이점은, \n",
    "  - 1) 리스트는 여러 값(Value)을 순차적으로 담아서 가져오지만, \n",
    "  - 2) 딕셔너리는 키(Key)를 지정해주면 키에 해당하는 값(Value)을 가져옴"
   ]
  },
  {
   "cell_type": "code",
   "execution_count": 23,
   "metadata": {},
   "outputs": [
    {
     "data": {
      "text/plain": [
       "{'apple': '사과', 'cherry': '체리', 'orange': '오렌지'}"
      ]
     },
     "execution_count": 23,
     "metadata": {},
     "output_type": "execute_result"
    }
   ],
   "source": [
    "# 이 딕셔너리는 키(Key)와 값(Value)으로 이루어짐\n",
    "\n",
    "voca = {\"apple\":\"사과\", \"cherry\":\"체리\", \"orange\":\"오렌지\"}  \n",
    "voca"
   ]
  },
  {
   "cell_type": "code",
   "execution_count": 24,
   "metadata": {},
   "outputs": [
    {
     "name": "stdout",
     "output_type": "stream",
     "text": [
      "사과\n"
     ]
    }
   ],
   "source": [
    "print(voca['apple'])"
   ]
  },
  {
   "cell_type": "code",
   "execution_count": 100,
   "metadata": {},
   "outputs": [],
   "source": [
    "voca[\"pipeapple\"] = \"파인애플\""
   ]
  },
  {
   "cell_type": "code",
   "execution_count": 102,
   "metadata": {},
   "outputs": [
    {
     "data": {
      "text/plain": [
       "{'apple': '사과', 'orange': '오렌지', 'pipeapple': '파인애플'}"
      ]
     },
     "execution_count": 102,
     "metadata": {},
     "output_type": "execute_result"
    }
   ],
   "source": [
    "# 특정 값을 제거하고 싶다면 del 을 사용\n",
    "del voca[\"cherry\"]\n",
    "voca"
   ]
  },
  {
   "cell_type": "code",
   "execution_count": 104,
   "metadata": {},
   "outputs": [
    {
     "data": {
      "text/plain": [
       "dict_keys(['apple', 'orange', 'pipeapple'])"
      ]
     },
     "execution_count": 104,
     "metadata": {},
     "output_type": "execute_result"
    }
   ],
   "source": [
    "# .keys()는 딕셔너리의 키(Key)들의 리스트를 가져옴\n",
    "voca.keys()"
   ]
  },
  {
   "cell_type": "code",
   "execution_count": 105,
   "metadata": {},
   "outputs": [
    {
     "data": {
      "text/plain": [
       "dict_values(['사과', '오렌지', '파인애플'])"
      ]
     },
     "execution_count": 105,
     "metadata": {},
     "output_type": "execute_result"
    }
   ],
   "source": [
    "# .values()는 딕셔너리의 값(Value)들의 리스트를 가져옴\n",
    "voca.values()"
   ]
  },
  {
   "cell_type": "code",
   "execution_count": null,
   "metadata": {},
   "outputs": [],
   "source": [
    "# in 연산자 검색 가능\n",
    "print('apple' in vaca)\n",
    "print('dish' in voca)"
   ]
  },
  {
   "cell_type": "code",
   "execution_count": null,
   "metadata": {},
   "outputs": [],
   "source": []
  },
  {
   "cell_type": "markdown",
   "metadata": {},
   "source": [
    "### 파이썬 Python 자료형 종류\n",
    "\n",
    "1) 숫자형\n",
    "  - 1, 2, 3, 0, -1, -5, 3.14 \n",
    "  \n",
    "2) Boolean\n",
    "  - True, False\n",
    "  \n",
    "3) 문자열\n",
    "  - \"Hello\", \"메가IT\", '빅데이터'\n",
    "\n",
    "4) 리스트 List\n",
    "  - [], [1,3,5], [\"서\", \"현\", \"경\"]\n",
    "\n",
    "5) 튜플 Tuple\n",
    "  - (), (1,3,5)\n",
    "\n",
    "6) 사전 Dictionary\n",
    "  - {key1 : value1}, {\"이름\":\"서현경\", \"성별\":\"남자\"}\n",
    "\n",
    "7) 집합 Set\n",
    "  - {}, set([1,3,5]), set(\"Hello\")\n",
    " "
   ]
  },
  {
   "cell_type": "code",
   "execution_count": null,
   "metadata": {},
   "outputs": [],
   "source": []
  },
  {
   "cell_type": "markdown",
   "metadata": {},
   "source": [
    "### 제어문 if condition"
   ]
  },
  {
   "cell_type": "code",
   "execution_count": 106,
   "metadata": {},
   "outputs": [],
   "source": [
    "age = 30"
   ]
  },
  {
   "cell_type": "code",
   "execution_count": 108,
   "metadata": {},
   "outputs": [
    {
     "name": "stdout",
     "output_type": "stream",
     "text": [
      "일반인\n"
     ]
    }
   ],
   "source": [
    "if age < 19:\n",
    "    print(\"학생\")\n",
    "else:\n",
    "    print(\"일반인\")"
   ]
  },
  {
   "cell_type": "code",
   "execution_count": 110,
   "metadata": {},
   "outputs": [
    {
     "name": "stdout",
     "output_type": "stream",
     "text": [
      "학생\n"
     ]
    }
   ],
   "source": [
    "age = 5\n",
    "if age < 19:\n",
    "    print(\"학생\")\n",
    "elif age < 10:\n",
    "    print(\"어린학생\")\n",
    "else:\n",
    "    print(\"일반인\")"
   ]
  },
  {
   "cell_type": "code",
   "execution_count": 113,
   "metadata": {},
   "outputs": [
    {
     "data": {
      "text/plain": [
       "[1, 3, 5, 7, 9]"
      ]
     },
     "execution_count": 113,
     "metadata": {},
     "output_type": "execute_result"
    }
   ],
   "source": [
    "odd = [1,3,5,7,9]\n",
    "odd"
   ]
  },
  {
   "cell_type": "code",
   "execution_count": 115,
   "metadata": {},
   "outputs": [
    {
     "name": "stdout",
     "output_type": "stream",
     "text": [
      "3 exist\n"
     ]
    }
   ],
   "source": [
    "if not 3 in odd:\n",
    "    print(\"3 not exist\")\n",
    "else:\n",
    "    print(\"3 exist\")"
   ]
  },
  {
   "cell_type": "markdown",
   "metadata": {},
   "source": [
    "### 반복문 for loop"
   ]
  },
  {
   "cell_type": "code",
   "execution_count": 26,
   "metadata": {},
   "outputs": [
    {
     "data": {
      "text/plain": [
       "['apple', 'banana', 'cherry', 'pineapple']"
      ]
     },
     "execution_count": 26,
     "metadata": {},
     "output_type": "execute_result"
    }
   ],
   "source": [
    "basket = [\"apple\", \"banana\", \"cherry\", \"pineapple\"]\n",
    "basket"
   ]
  },
  {
   "cell_type": "code",
   "execution_count": 27,
   "metadata": {},
   "outputs": [
    {
     "name": "stdout",
     "output_type": "stream",
     "text": [
      "banana\n"
     ]
    }
   ],
   "source": [
    "product = basket[1]\n",
    "print(product)"
   ]
  },
  {
   "cell_type": "code",
   "execution_count": 28,
   "metadata": {},
   "outputs": [
    {
     "name": "stdout",
     "output_type": "stream",
     "text": [
      "apple\n",
      "banana\n",
      "cherry\n",
      "pineapple\n"
     ]
    }
   ],
   "source": [
    "for i in basket:\n",
    "    print(i)"
   ]
  },
  {
   "cell_type": "code",
   "execution_count": 126,
   "metadata": {},
   "outputs": [
    {
     "name": "stdout",
     "output_type": "stream",
     "text": [
      "1\n",
      "2\n",
      "3\n",
      "4\n",
      "5\n",
      "6\n",
      "7\n",
      "8\n",
      "9\n"
     ]
    }
   ],
   "source": [
    "for i in range(1,10):\n",
    "    print(i)"
   ]
  },
  {
   "cell_type": "code",
   "execution_count": 29,
   "metadata": {},
   "outputs": [
    {
     "name": "stdout",
     "output_type": "stream",
     "text": [
      "1\n",
      "3\n",
      "4\n",
      "5\n"
     ]
    }
   ],
   "source": [
    "for i in range(1,10):\n",
    "    if i == 2:\n",
    "        continue\n",
    "    elif i == 5:\n",
    "        print(i)\n",
    "        break\n",
    "    else:\n",
    "        print(i)"
   ]
  },
  {
   "cell_type": "markdown",
   "metadata": {
    "colab_type": "text",
    "id": "8yQ1RfQ8CTv5"
   },
   "source": [
    "연습 : 다음과 같은 기능을 하는 코드를 작성해보세요\n",
    "\n",
    "1. 루프를 1부터 10까지 반복합니다. (=i에는 1부터 10까지의 값이 반복해서 들어갑니다)\n",
    "1. i를 그대로 출력하지 않고, 두 배로 늘려서 출력합니다. (```i * 2```)\n",
    "1. 반복문 안에서 출력하지 않고, 반복문 안에서 값을 모아뒀다가 반복문이 끝나면 밖에서 출력합니다. 이를 위해서는 빈 리스트를 만든 뒤(```double_list = []```), 리스트의 ```.append``` 기능을 사용해서 값을 집어넣습니다.\n",
    "1. 여기서 i가 5일 경우는 반복을 한 번만 skip하고 다음 반복(i가 6일 경우)을 재시작합니다.\n",
    "1. 그리고 i가 8일 경우는 반복문을 강제로 종료시킵니다.\n"
   ]
  },
  {
   "cell_type": "code",
   "execution_count": null,
   "metadata": {},
   "outputs": [],
   "source": [
    "# double_list라는 변수에 빈 리스트를 하나 할당합니다.\n",
    "double_list = []\n",
    "\n",
    "# 1) 1부터 10까지 루프를 반복합니다.\n",
    "for i in range(1, 11):\n",
    "    # 4) i가 5이면 현재 루프를 skip하고 다음 루프(i가 6인 경우)를 실행합니다.\n",
    "    if i == 5:\n",
    "        continue\n",
    "    \n",
    "    # 5) i가 8이면 반복문을 강제로 종료시킵니다.\n",
    "    if i == 8:\n",
    "        break\n",
    "    \n",
    "    # 2)  i 값에 2를 곱한 뒤, 그 결과를 double이라는 이름의 변수에 할당합니다.\n",
    "    double = i * 2\n",
    "    \n",
    "    # 3) doublie_list에 double 변수에 들어있는 값을 할당합니다.\n",
    "    double_list.append(double)\n",
    "\n",
    "# 3) 반복문이 끝난 다음의 결과를 모두 출력합니다.\n",
    "double_list"
   ]
  },
  {
   "cell_type": "markdown",
   "metadata": {},
   "source": [
    "]"
   ]
  },
  {
   "cell_type": "markdown",
   "metadata": {},
   "source": [
    "### 함수 Function"
   ]
  },
  {
   "cell_type": "code",
   "execution_count": 3,
   "metadata": {},
   "outputs": [],
   "source": [
    "def multiply(a, b):\n",
    "    # a 변수의 값과 b변수의 값을 곱한 뒤, c 변수에 저장\n",
    "    c = a * b\n",
    "    \n",
    "    # c 변수 값을 반환 \n",
    "    return c"
   ]
  },
  {
   "cell_type": "code",
   "execution_count": null,
   "metadata": {},
   "outputs": [],
   "source": [
    "#print(multiply(2, 3))\n",
    "#print(multiply(3, 4))"
   ]
  },
  {
   "cell_type": "code",
   "execution_count": null,
   "metadata": {},
   "outputs": [],
   "source": []
  },
  {
   "cell_type": "code",
   "execution_count": 10,
   "metadata": {},
   "outputs": [],
   "source": [
    "def self_introduce(name, job = 'Engineer'):\n",
    "    print(f'My name is {name}, and I am a {job}.')"
   ]
  },
  {
   "cell_type": "code",
   "execution_count": 14,
   "metadata": {},
   "outputs": [
    {
     "name": "stdout",
     "output_type": "stream",
     "text": [
      "My name is MegaPerson, and I am a Engineer.\n",
      "My name is ITperson, and I am a Teacher.\n"
     ]
    }
   ],
   "source": [
    "self_introduce('MegaPerson')\n",
    "self_introduce('ITperson', 'Teacher')"
   ]
  },
  {
   "cell_type": "markdown",
   "metadata": {},
   "source": [
    "##### Formatiing "
   ]
  },
  {
   "cell_type": "code",
   "execution_count": 4,
   "metadata": {
    "colab": {},
    "colab_type": "code",
    "id": "Z_lLKx4PCTt6",
    "outputId": "29e0adf2-7355-415e-a0c4-ea564e82498b"
   },
   "outputs": [
    {
     "data": {
      "text/plain": [
       "\"Today's date is 2020-04-17 and Friday, right?\""
      ]
     },
     "execution_count": 4,
     "metadata": {},
     "output_type": "execute_result"
    }
   ],
   "source": [
    "info_date = '2020-04-17'\n",
    "info_day = 'Friday'\n",
    "\n",
    "# 파이썬의 format이라는 기능을 사용합니다.\n",
    "# .format() 안에 두 개의 변수(bananas, days)를 순서대로 넣고,\n",
    "# 이 순서를 중괄호를 활용해 {0}, {1} 로 문자열 안에 적습니다.\n",
    "# 단 프로그래밍 언어에서 모든 숫자의 시작은 0부터 시작한다는 것에 유의합니다.\n",
    "\"Today's date is {0} and {1}, right?\".format(info_date, info_day)"
   ]
  },
  {
   "cell_type": "code",
   "execution_count": 5,
   "metadata": {
    "colab": {},
    "colab_type": "code",
    "id": "mKPS7CbTCTt8",
    "outputId": "91329404-d7cb-4ef5-db52-5e00e21ded93"
   },
   "outputs": [
    {
     "data": {
      "text/plain": [
       "\"Today's date is 2020-04-17 and Friday, right?\""
      ]
     },
     "execution_count": 5,
     "metadata": {},
     "output_type": "execute_result"
    }
   ],
   "source": [
    "f\"Today's date is {info_date} and {info_day}, right?\""
   ]
  },
  {
   "cell_type": "code",
   "execution_count": 6,
   "metadata": {
    "colab": {},
    "colab_type": "code",
    "id": "5sf8_GwDCTt_",
    "outputId": "c6644e1f-4074-42d0-f37c-2464f1546eab"
   },
   "outputs": [
    {
     "data": {
      "text/plain": [
       "'Number A = 0.123 Number B = 0.45679'"
      ]
     },
     "execution_count": 6,
     "metadata": {},
     "output_type": "execute_result"
    }
   ],
   "source": [
    "num_a = 0.123456\n",
    "num_b = 0.456789\n",
    "\n",
    "\"Number A = {0:.3} Number B = {1:.5}\".format(num_a, num_b)"
   ]
  },
  {
   "cell_type": "code",
   "execution_count": 9,
   "metadata": {
    "colab": {},
    "colab_type": "code",
    "id": "Y0-NHFPmCTuB",
    "outputId": "bab7a1d8-e9c0-427c-a576-9ad74da50eff"
   },
   "outputs": [
    {
     "data": {
      "text/plain": [
       "'Number A = 0.123 Number B = 0.45679'"
      ]
     },
     "execution_count": 9,
     "metadata": {},
     "output_type": "execute_result"
    }
   ],
   "source": [
    "f\"Number A = {num_a:.3f} Number B = {num_b:.5f}\""
   ]
  },
  {
   "cell_type": "markdown",
   "metadata": {},
   "source": [
    "]"
   ]
  },
  {
   "cell_type": "code",
   "execution_count": null,
   "metadata": {},
   "outputs": [],
   "source": [
    "var1 = 10\n",
    "\n",
    "def test(a):\n",
    "    # var1에 test함수의 인자로 입력받은 a를 할당\n",
    "    variable = a\n",
    "    \n",
    "# test 함수에 5의 값을 넣고 실행\n",
    "test(5)\n",
    "print(variable)"
   ]
  },
  {
   "cell_type": "code",
   "execution_count": null,
   "metadata": {},
   "outputs": [],
   "source": []
  },
  {
   "cell_type": "code",
   "execution_count": null,
   "metadata": {},
   "outputs": [],
   "source": []
  },
  {
   "cell_type": "markdown",
   "metadata": {},
   "source": [
    "## Quiz"
   ]
  },
  {
   "cell_type": "markdown",
   "metadata": {},
   "source": [
    "### 점수 채점하기\n",
    "\n",
    " - 총 12명의 레벨테스트 점수가 파이썬의 리스트(List)로 담겨져 있고,\n",
    " - 이를 score라는 이름의 변수에 할당하였습니다.\n",
    "\n",
    "score = [80, 60, 70, 50, 100, 95, 40, 75, 90, 65, 90, 100]\n",
    "이 score 변수에 담겨져 있는 값을 활용하여 아래 문제를 풀어보세요.\n",
    "\n",
    " - 전체 점수의 평균을 구하는 코드를 작성해보세요.\n",
    " - 전체 점수 중 가장 높은 점수를 구하는 코드를 작성해보세요.\n",
    " - 전체 점수 중 가장 낮은 점수를 구하는 코드를 작성해보세요.\n"
   ]
  },
  {
   "cell_type": "code",
   "execution_count": 30,
   "metadata": {},
   "outputs": [],
   "source": [
    "score = [80, 60, 70, 50, 100, 95, 40, 75, 90, 65, 90, 100] "
   ]
  },
  {
   "cell_type": "code",
   "execution_count": 31,
   "metadata": {},
   "outputs": [
    {
     "data": {
      "text/plain": [
       "[80, 60, 70, 50, 100, 95, 40, 75, 90, 65, 90, 100]"
      ]
     },
     "execution_count": 31,
     "metadata": {},
     "output_type": "execute_result"
    }
   ],
   "source": [
    "sort"
   ]
  },
  {
   "cell_type": "code",
   "execution_count": 38,
   "metadata": {},
   "outputs": [
    {
     "name": "stdout",
     "output_type": "stream",
     "text": [
      "915 12 76.25\n",
      "평균값 :  76.25\n"
     ]
    }
   ],
   "source": [
    "# 평균:  sum(score) / count(score)\n",
    "count = 0\n",
    "total = 0\n",
    "\n",
    "for i in score:\n",
    "    count = count + 1\n",
    "    total = total + i\n",
    "    \n",
    "print(total, count, total/count)\n",
    "print(\"평균값 : \", total/count)"
   ]
  },
  {
   "cell_type": "code",
   "execution_count": 39,
   "metadata": {},
   "outputs": [
    {
     "data": {
      "text/plain": [
       "12"
      ]
     },
     "execution_count": 39,
     "metadata": {},
     "output_type": "execute_result"
    }
   ],
   "source": [
    "len(score)"
   ]
  },
  {
   "cell_type": "code",
   "execution_count": 44,
   "metadata": {},
   "outputs": [
    {
     "data": {
      "text/plain": [
       "100"
      ]
     },
     "execution_count": 44,
     "metadata": {},
     "output_type": "execute_result"
    }
   ],
   "source": [
    "# Max:\n",
    "score.sort()\n",
    "score\n",
    "score[11]\n",
    "score[-1]"
   ]
  },
  {
   "cell_type": "code",
   "execution_count": 46,
   "metadata": {},
   "outputs": [
    {
     "data": {
      "text/plain": [
       "40"
      ]
     },
     "execution_count": 46,
     "metadata": {},
     "output_type": "execute_result"
    }
   ],
   "source": [
    "# Min:\n",
    "score.sort()\n",
    "score\n",
    "score[0]"
   ]
  },
  {
   "cell_type": "code",
   "execution_count": null,
   "metadata": {},
   "outputs": [],
   "source": [
    "#score = score.sort()"
   ]
  },
  {
   "cell_type": "code",
   "execution_count": 47,
   "metadata": {},
   "outputs": [
    {
     "name": "stdout",
     "output_type": "stream",
     "text": [
      "최소값 : 40 최대값 : 100\n"
     ]
    }
   ],
   "source": [
    "print(\"최소값 :\", score[0], \"최대값 :\", score[-1])"
   ]
  },
  {
   "cell_type": "markdown",
   "metadata": {
    "colab_type": "text",
    "id": "uVKQbKr8POp1"
   },
   "source": [
    "### 함수 - 팩토리얼\n",
    "\n",
    "수학 팩토리얼입니다. 기억이 나지 않는 분들을 위해 예시를 들자면\n",
    "\n",
    "  * 3! = 3 x 2 x 1 = 6\n",
    "  * 4! = 4 x 3 x 2 x 1 = 24\n",
    "  * 5! = 5 x 4 x 3 x 2 x 1 = 120\n",
    "  \n",
    "와 같이 동작합니다. 파이썬에서는 간단한 몇 줄의 코드만으로 팩토리얼을 구현할 수 있습니다."
   ]
  },
  {
   "cell_type": "code",
   "execution_count": null,
   "metadata": {},
   "outputs": [],
   "source": [
    "def fac(n):\n",
    "    "
   ]
  },
  {
   "cell_type": "markdown",
   "metadata": {
    "colab_type": "text",
    "id": "DyifZuUyPOp4"
   },
   "source": [
    "### 함수 - 369 게임\n",
    "\n",
    "다음은 369게임입니다. 369게임은 다음과 같습니다.\n",
    "\n",
    "1. 1부터 시작해 숫자를 하나씩 센다.\n",
    "2. 숫자에 3이나 6이나 9 배수일 경우 박수(clap)를 친다.\n",
    "3. 지정한 최대 숫자까지 도달하면 프로그램을 종료한다.\n"
   ]
  },
  {
   "cell_type": "code",
   "execution_count": null,
   "metadata": {},
   "outputs": [],
   "source": []
  },
  {
   "cell_type": "markdown",
   "metadata": {
    "colab_type": "text",
    "collapsed": true,
    "id": "4tEyihdWPOp3"
   },
   "source": [
    "### 3n + 1\n",
    "\n",
    "3n + 1 문제는 다음과 같습니다.\n",
    "\n",
    "  * n이 홀수면 3을 곱한 뒤 1을 더하고\n",
    "  * n이 짝수면 2로 나눕니다.\n",
    "  * 마지막으로 n이 1이 되면 프로그램을 종료합니다.\n",
    "\n",
    "이 문제 역시 재귀 함수를 사용하면 간단하게 풀 수 있습니다."
   ]
  },
  {
   "cell_type": "code",
   "execution_count": 19,
   "metadata": {},
   "outputs": [
    {
     "data": {
      "text/plain": [
       "[1, 5, 6]"
      ]
     },
     "execution_count": 19,
     "metadata": {},
     "output_type": "execute_result"
    }
   ],
   "source": [
    "[1] + [5]\n",
    "([1] + [5]) + [6]"
   ]
  },
  {
   "cell_type": "code",
   "execution_count": null,
   "metadata": {
    "colab": {},
    "colab_type": "code",
    "id": "x4_zsBlSPOp3",
    "outputId": "56959b06-84c2-425c-839d-9274130369b9"
   },
   "outputs": [],
   "source": []
  }
 ],
 "metadata": {
  "kernelspec": {
   "display_name": "Python 3 (ipykernel)",
   "language": "python",
   "name": "python3"
  },
  "language_info": {
   "codemirror_mode": {
    "name": "ipython",
    "version": 3
   },
   "file_extension": ".py",
   "mimetype": "text/x-python",
   "name": "python",
   "nbconvert_exporter": "python",
   "pygments_lexer": "ipython3",
   "version": "3.9.7"
  }
 },
 "nbformat": 4,
 "nbformat_minor": 2
}

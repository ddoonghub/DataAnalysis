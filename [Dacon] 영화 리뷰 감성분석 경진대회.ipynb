{
 "cells": [
  {
   "cell_type": "markdown",
   "id": "38309cba",
   "metadata": {},
   "source": [
    "### 영화 리뷰 감성분석 경진대회\n",
    "데이콘 베이직 Basic | NLP | Accuracy\n",
    "\n",
    "https://dacon.io/competitions/official/235864/overview/description"
   ]
  },
  {
   "cell_type": "markdown",
   "id": "d3d014b2",
   "metadata": {},
   "source": [
    "### 1. Import pacakges"
   ]
  },
  {
   "cell_type": "code",
   "execution_count": 1,
   "id": "3b8118b5",
   "metadata": {},
   "outputs": [],
   "source": [
    "import pandas as pd\n",
    "import numpy as np\n",
    "import matplotlib.pyplot as plt\n",
    "import seaborn as sns\n",
    "\n",
    "import warnings\n",
    "warnings.filterwarnings(action='ignore')"
   ]
  },
  {
   "cell_type": "code",
   "execution_count": null,
   "id": "b04cae93",
   "metadata": {},
   "outputs": [],
   "source": [
    "!pip install konlpy"
   ]
  },
  {
   "cell_type": "code",
   "execution_count": 2,
   "id": "177ac5ca",
   "metadata": {},
   "outputs": [],
   "source": [
    "from konlpy.tag import Okt\n",
    "import re"
   ]
  },
  {
   "cell_type": "code",
   "execution_count": 3,
   "id": "0c750feb",
   "metadata": {},
   "outputs": [],
   "source": [
    "okt = Okt()"
   ]
  },
  {
   "cell_type": "code",
   "execution_count": null,
   "id": "a88777e1",
   "metadata": {},
   "outputs": [],
   "source": []
  },
  {
   "cell_type": "markdown",
   "id": "5cf92451",
   "metadata": {},
   "source": [
    "### 2. Data loading\n",
    "##### label (리뷰의 감성 종류) : 긍정(1), 부정(0)"
   ]
  },
  {
   "cell_type": "code",
   "execution_count": 4,
   "id": "a9e44907",
   "metadata": {},
   "outputs": [
    {
     "name": "stdout",
     "output_type": "stream",
     "text": [
      "(5000, 3)\n"
     ]
    },
    {
     "data": {
      "text/html": [
       "<div>\n",
       "<style scoped>\n",
       "    .dataframe tbody tr th:only-of-type {\n",
       "        vertical-align: middle;\n",
       "    }\n",
       "\n",
       "    .dataframe tbody tr th {\n",
       "        vertical-align: top;\n",
       "    }\n",
       "\n",
       "    .dataframe thead th {\n",
       "        text-align: right;\n",
       "    }\n",
       "</style>\n",
       "<table border=\"1\" class=\"dataframe\">\n",
       "  <thead>\n",
       "    <tr style=\"text-align: right;\">\n",
       "      <th></th>\n",
       "      <th>id</th>\n",
       "      <th>document</th>\n",
       "      <th>label</th>\n",
       "    </tr>\n",
       "  </thead>\n",
       "  <tbody>\n",
       "    <tr>\n",
       "      <th>0</th>\n",
       "      <td>1</td>\n",
       "      <td>영상이나 음악이 이쁘다 해도 미화시킨 불륜일뿐</td>\n",
       "      <td>0</td>\n",
       "    </tr>\n",
       "    <tr>\n",
       "      <th>1</th>\n",
       "      <td>2</td>\n",
       "      <td>히치콕이 이 영화를 봤다면 분명 박수를 쳤을듯...</td>\n",
       "      <td>1</td>\n",
       "    </tr>\n",
       "  </tbody>\n",
       "</table>\n",
       "</div>"
      ],
      "text/plain": [
       "   id                      document  label\n",
       "0   1     영상이나 음악이 이쁘다 해도 미화시킨 불륜일뿐      0\n",
       "1   2  히치콕이 이 영화를 봤다면 분명 박수를 쳤을듯...      1"
      ]
     },
     "execution_count": 4,
     "metadata": {},
     "output_type": "execute_result"
    }
   ],
   "source": [
    "train = pd.read_csv(\"train.csv\")\n",
    "\n",
    "print(train.shape)\n",
    "train.head(2)"
   ]
  },
  {
   "cell_type": "code",
   "execution_count": 5,
   "id": "d9765b0a",
   "metadata": {},
   "outputs": [
    {
     "name": "stdout",
     "output_type": "stream",
     "text": [
      "(5000, 2)\n"
     ]
    },
    {
     "data": {
      "text/html": [
       "<div>\n",
       "<style scoped>\n",
       "    .dataframe tbody tr th:only-of-type {\n",
       "        vertical-align: middle;\n",
       "    }\n",
       "\n",
       "    .dataframe tbody tr th {\n",
       "        vertical-align: top;\n",
       "    }\n",
       "\n",
       "    .dataframe thead th {\n",
       "        text-align: right;\n",
       "    }\n",
       "</style>\n",
       "<table border=\"1\" class=\"dataframe\">\n",
       "  <thead>\n",
       "    <tr style=\"text-align: right;\">\n",
       "      <th></th>\n",
       "      <th>id</th>\n",
       "      <th>document</th>\n",
       "    </tr>\n",
       "  </thead>\n",
       "  <tbody>\n",
       "    <tr>\n",
       "      <th>0</th>\n",
       "      <td>1</td>\n",
       "      <td>시간 때우기 좋은 영화 지루함</td>\n",
       "    </tr>\n",
       "    <tr>\n",
       "      <th>1</th>\n",
       "      <td>2</td>\n",
       "      <td>훈훈한 정이 느껴지는 영화! 가족끼리 드라마 보듯이 보면 딱~!</td>\n",
       "    </tr>\n",
       "  </tbody>\n",
       "</table>\n",
       "</div>"
      ],
      "text/plain": [
       "   id                             document\n",
       "0   1                     시간 때우기 좋은 영화 지루함\n",
       "1   2  훈훈한 정이 느껴지는 영화! 가족끼리 드라마 보듯이 보면 딱~!"
      ]
     },
     "execution_count": 5,
     "metadata": {},
     "output_type": "execute_result"
    }
   ],
   "source": [
    "test = pd.read_csv(\"test.csv\")\n",
    "\n",
    "print(test.shape)\n",
    "test.head(2)"
   ]
  },
  {
   "cell_type": "code",
   "execution_count": 6,
   "id": "45ce8272",
   "metadata": {},
   "outputs": [
    {
     "name": "stdout",
     "output_type": "stream",
     "text": [
      "(5000, 2)\n"
     ]
    },
    {
     "data": {
      "text/html": [
       "<div>\n",
       "<style scoped>\n",
       "    .dataframe tbody tr th:only-of-type {\n",
       "        vertical-align: middle;\n",
       "    }\n",
       "\n",
       "    .dataframe tbody tr th {\n",
       "        vertical-align: top;\n",
       "    }\n",
       "\n",
       "    .dataframe thead th {\n",
       "        text-align: right;\n",
       "    }\n",
       "</style>\n",
       "<table border=\"1\" class=\"dataframe\">\n",
       "  <thead>\n",
       "    <tr style=\"text-align: right;\">\n",
       "      <th></th>\n",
       "      <th>id</th>\n",
       "      <th>label</th>\n",
       "    </tr>\n",
       "  </thead>\n",
       "  <tbody>\n",
       "    <tr>\n",
       "      <th>0</th>\n",
       "      <td>1</td>\n",
       "      <td>0</td>\n",
       "    </tr>\n",
       "    <tr>\n",
       "      <th>1</th>\n",
       "      <td>2</td>\n",
       "      <td>0</td>\n",
       "    </tr>\n",
       "  </tbody>\n",
       "</table>\n",
       "</div>"
      ],
      "text/plain": [
       "   id  label\n",
       "0   1      0\n",
       "1   2      0"
      ]
     },
     "execution_count": 6,
     "metadata": {},
     "output_type": "execute_result"
    }
   ],
   "source": [
    "submission = pd.read_csv(\"sample_submission.csv\")\n",
    "\n",
    "print(submission.shape)\n",
    "submission.head(2)"
   ]
  },
  {
   "cell_type": "code",
   "execution_count": null,
   "id": "1f5bb340",
   "metadata": {},
   "outputs": [],
   "source": []
  },
  {
   "cell_type": "markdown",
   "id": "ef9ca0eb",
   "metadata": {},
   "source": [
    "### 3. Preprocessing"
   ]
  },
  {
   "cell_type": "markdown",
   "id": "eeee9513",
   "metadata": {},
   "source": [
    "#### 3-1) missing values"
   ]
  },
  {
   "cell_type": "code",
   "execution_count": 7,
   "id": "9a4ed673",
   "metadata": {},
   "outputs": [
    {
     "name": "stdout",
     "output_type": "stream",
     "text": [
      "<class 'pandas.core.frame.DataFrame'>\n",
      "RangeIndex: 5000 entries, 0 to 4999\n",
      "Data columns (total 3 columns):\n",
      " #   Column    Non-Null Count  Dtype \n",
      "---  ------    --------------  ----- \n",
      " 0   id        5000 non-null   int64 \n",
      " 1   document  5000 non-null   object\n",
      " 2   label     5000 non-null   int64 \n",
      "dtypes: int64(2), object(1)\n",
      "memory usage: 117.3+ KB\n"
     ]
    },
    {
     "data": {
      "text/plain": [
       "id          0\n",
       "document    0\n",
       "label       0\n",
       "dtype: int64"
      ]
     },
     "execution_count": 7,
     "metadata": {},
     "output_type": "execute_result"
    }
   ],
   "source": [
    "train.info()\n",
    "train.isna().sum()"
   ]
  },
  {
   "cell_type": "markdown",
   "id": "90a66f1d",
   "metadata": {},
   "source": [
    "#### 3-2) regular expression "
   ]
  },
  {
   "cell_type": "code",
   "execution_count": 10,
   "id": "b440e1d0",
   "metadata": {},
   "outputs": [
    {
     "data": {
      "text/plain": [
       "'괜찮은 음악영화가 또 나왔군요!!! 따뜻한 겨울이 될 것 같아요~'"
      ]
     },
     "execution_count": 10,
     "metadata": {},
     "output_type": "execute_result"
    }
   ],
   "source": [
    "train.head(1)\n",
    "train[\"document\"]\n",
    "train.loc[2, \"document\"]"
   ]
  },
  {
   "cell_type": "code",
   "execution_count": 8,
   "id": "bed5085e",
   "metadata": {},
   "outputs": [
    {
     "data": {
      "text/plain": [
       "'괜123찮은 abc ZDBDase 음35악df영화가 또 나A왔E군요 따뜻한 겨울이 될 것 같아요'"
      ]
     },
     "execution_count": 8,
     "metadata": {},
     "output_type": "execute_result"
    }
   ],
   "source": [
    "## Examples : \n",
    "txt_smpl = '괜123찮은 abc ZDBDase 음35악df영화가 또 나A왔E군요!!! 따뜻한 겨울이 될 것 같아요~'\n",
    "\n",
    "### stype 1\n",
    "re.sub(\"[괜찮은!~ ]\", \"\", txt_smpl)\n",
    "re.sub(\"[^1-9a-zA-Zㄱ-힣 ]\", \"\", txt_smpl)\n",
    "\n",
    "## stype 2\n",
    "r = re.compile(\"[^1-9a-zA-Zㄱ-힣 ]\")\n",
    "re.sub(r, \"\", txt_smpl)"
   ]
  },
  {
   "cell_type": "code",
   "execution_count": 12,
   "id": "a9f55723",
   "metadata": {},
   "outputs": [],
   "source": [
    "def reg_exp(doc):\n",
    "    \n",
    "    return re.sub(\"[^1-9a-zA-Zㄱ-힣 ]\", \"\", doc)"
   ]
  },
  {
   "cell_type": "code",
   "execution_count": 13,
   "id": "24837911",
   "metadata": {},
   "outputs": [],
   "source": [
    "train[\"doc_re\"] = train[\"document\"].apply(reg_exp)"
   ]
  },
  {
   "cell_type": "code",
   "execution_count": 14,
   "id": "53796829",
   "metadata": {},
   "outputs": [],
   "source": [
    "test[\"doc_re\"] = test[\"document\"].apply(reg_exp)"
   ]
  },
  {
   "cell_type": "markdown",
   "id": "982b7b0b",
   "metadata": {},
   "source": [
    "#### 3-3) stopwords\n",
    "##### case 1"
   ]
  },
  {
   "cell_type": "code",
   "execution_count": 15,
   "id": "136308dc",
   "metadata": {},
   "outputs": [
    {
     "name": "stdout",
     "output_type": "stream",
     "text": [
      "['배우', '류', '영화', '영화']\n",
      "['좋은 배우들', '3류영화', '안타까운 영화', '배우들', '영화']\n",
      "['좋다', '배우', '들', '로', '3', '류', '영화', '를', '찍다', '안타깝다', '영화']\n",
      "[('좋다', 'Adjective'), ('배우', 'Noun'), ('들', 'Suffix'), ('로', 'Josa'), ('3', 'Number'), ('류', 'Noun'), ('영화', 'Noun'), ('를', 'Josa'), ('찍다', 'Verb'), ('안타깝다', 'Adjective'), ('영화', 'Noun')]\n"
     ]
    }
   ],
   "source": [
    "txt_smpl = \"좋은 배우들로 3류영화를 찍은 안타까운 영화\"\n",
    "\n",
    "print(okt.nouns(txt_smpl))\n",
    "print(okt.phrases(txt_smpl))\n",
    "print(okt.morphs(txt_smpl, norm=True, stem=True))\n",
    "print(okt.pos(txt_smpl, norm=True, stem=True))"
   ]
  },
  {
   "cell_type": "code",
   "execution_count": null,
   "id": "c599a6ef",
   "metadata": {},
   "outputs": [],
   "source": []
  },
  {
   "cell_type": "code",
   "execution_count": 24,
   "id": "cccad781",
   "metadata": {},
   "outputs": [],
   "source": [
    "stopwords = [\"이\",\"또\",\"를\",\"로\"]"
   ]
  },
  {
   "cell_type": "code",
   "execution_count": 39,
   "id": "59beb953",
   "metadata": {},
   "outputs": [
    {
     "data": {
      "text/plain": [
       "'좋다 배우 들 3 류 영화 찍다 안타깝다 영화'"
      ]
     },
     "execution_count": 39,
     "metadata": {},
     "output_type": "execute_result"
    }
   ],
   "source": [
    "output = []\n",
    "for txt in okt.morphs(txt_smpl, norm=True, stem=True):\n",
    "    if txt not in stopwords:\n",
    "#         print(txt)\n",
    "        output.append(txt)\n",
    "output        \n",
    "\" \".join(output)                "
   ]
  },
  {
   "cell_type": "code",
   "execution_count": 16,
   "id": "f2baef5a",
   "metadata": {},
   "outputs": [],
   "source": [
    "def del_stopwords(doc):\n",
    "    output = []\n",
    "    for txt in okt.morphs(doc, norm=True, stem=True):\n",
    "        if txt not in stopwords:\n",
    "            output.append(txt)\n",
    "            \n",
    "    return \" \".join(output)    "
   ]
  },
  {
   "cell_type": "code",
   "execution_count": 27,
   "id": "7cd3c411",
   "metadata": {},
   "outputs": [
    {
     "data": {
      "text/plain": [
       "'좋은 배우 들 3 류 영화 찍은 안타까운 영화'"
      ]
     },
     "execution_count": 27,
     "metadata": {},
     "output_type": "execute_result"
    }
   ],
   "source": [
    "del_stopwords(txt_smpl)"
   ]
  },
  {
   "cell_type": "code",
   "execution_count": null,
   "id": "a1146d83",
   "metadata": {},
   "outputs": [],
   "source": [
    "train[\"doc_re\"].apply(del_stopwords)\n",
    "test[\"doc_re\"].apply(del_stopwords)"
   ]
  },
  {
   "cell_type": "markdown",
   "id": "e53f6217",
   "metadata": {},
   "source": [
    "##### case 2"
   ]
  },
  {
   "cell_type": "code",
   "execution_count": 17,
   "id": "928e386b",
   "metadata": {},
   "outputs": [],
   "source": [
    "stop_pos = [\"Suffix\",\"Josa\",\"KoreanParticle\",\"Determiner\"]"
   ]
  },
  {
   "cell_type": "code",
   "execution_count": 48,
   "id": "73deab47",
   "metadata": {},
   "outputs": [
    {
     "data": {
      "text/plain": [
       "[('히치콕', 'Noun'),\n",
       " ('이', 'Determiner'),\n",
       " ('이영화', 'Noun'),\n",
       " ('를', 'Josa'),\n",
       " ('보다', 'Verb'),\n",
       " ('분명', 'Noun'),\n",
       " ('박수', 'Noun'),\n",
       " ('를', 'Josa'),\n",
       " ('치다', 'Verb')]"
      ]
     },
     "execution_count": 48,
     "metadata": {},
     "output_type": "execute_result"
    }
   ],
   "source": [
    "txt_smpl = \"히치콕이이영화를봤다면분명박수를쳤을듯\"\n",
    "okt.pos(txt_smpl, norm=True, stem=True)"
   ]
  },
  {
   "cell_type": "code",
   "execution_count": 18,
   "id": "eb96bd99",
   "metadata": {},
   "outputs": [
    {
     "name": "stdout",
     "output_type": "stream",
     "text": [
      "좋은 배우들로 3류영화를 찍은 안타까운 영화\n",
      "좋다 배우 3 류 영화 찍다 안타깝다 영화\n"
     ]
    }
   ],
   "source": [
    "output = []\n",
    "for txt in okt.pos(txt_smpl, norm=True, stem=True):\n",
    "    if txt[1] not in stop_pos:\n",
    "        output.append(txt[0])\n",
    "\n",
    "print(txt_smpl)        \n",
    "print(\" \".join(output))"
   ]
  },
  {
   "cell_type": "code",
   "execution_count": 19,
   "id": "f5e53908",
   "metadata": {},
   "outputs": [],
   "source": [
    "def del_pos(doc):\n",
    "    output = []\n",
    "    for txt in okt.pos(doc, norm=True, stem=True):\n",
    "        if txt[1] not in stop_pos:\n",
    "            output.append(txt[0])\n",
    "            \n",
    "    return \" \".join(output)   "
   ]
  },
  {
   "cell_type": "code",
   "execution_count": 20,
   "id": "30c4c816",
   "metadata": {},
   "outputs": [
    {
     "data": {
      "text/plain": [
       "'좋다 배우 3 류 영화 찍다 안타깝다 영화'"
      ]
     },
     "execution_count": 20,
     "metadata": {},
     "output_type": "execute_result"
    }
   ],
   "source": [
    "del_pos(txt_smpl)"
   ]
  },
  {
   "cell_type": "code",
   "execution_count": 21,
   "id": "a321536d",
   "metadata": {},
   "outputs": [],
   "source": [
    "train['doc_pos'] = train[\"doc_re\"].apply(del_pos)\n",
    "test['doc_pos'] = test[\"doc_re\"].apply(del_pos)"
   ]
  },
  {
   "cell_type": "code",
   "execution_count": 22,
   "id": "d78ddeb9",
   "metadata": {},
   "outputs": [
    {
     "data": {
      "text/html": [
       "<div>\n",
       "<style scoped>\n",
       "    .dataframe tbody tr th:only-of-type {\n",
       "        vertical-align: middle;\n",
       "    }\n",
       "\n",
       "    .dataframe tbody tr th {\n",
       "        vertical-align: top;\n",
       "    }\n",
       "\n",
       "    .dataframe thead th {\n",
       "        text-align: right;\n",
       "    }\n",
       "</style>\n",
       "<table border=\"1\" class=\"dataframe\">\n",
       "  <thead>\n",
       "    <tr style=\"text-align: right;\">\n",
       "      <th></th>\n",
       "      <th>id</th>\n",
       "      <th>document</th>\n",
       "      <th>label</th>\n",
       "      <th>doc_re</th>\n",
       "      <th>doc_pos</th>\n",
       "    </tr>\n",
       "  </thead>\n",
       "  <tbody>\n",
       "    <tr>\n",
       "      <th>0</th>\n",
       "      <td>1</td>\n",
       "      <td>영상이나 음악이 이쁘다 해도 미화시킨 불륜일뿐</td>\n",
       "      <td>0</td>\n",
       "      <td>영상이나 음악이 이쁘다 해도 미화시킨 불륜일뿐</td>\n",
       "      <td>영상 음악 이쁘다 해도 미화 시키다 불륜 일 뿐</td>\n",
       "    </tr>\n",
       "    <tr>\n",
       "      <th>1</th>\n",
       "      <td>2</td>\n",
       "      <td>히치콕이 이 영화를 봤다면 분명 박수를 쳤을듯...</td>\n",
       "      <td>1</td>\n",
       "      <td>히치콕이 이 영화를 봤다면 분명 박수를 쳤을듯</td>\n",
       "      <td>히치콕 이 영화 보다 분명 박수 치다</td>\n",
       "    </tr>\n",
       "    <tr>\n",
       "      <th>2</th>\n",
       "      <td>3</td>\n",
       "      <td>괜찮은 음악영화가 또 나왔군요!!! 따뜻한 겨울이 될 것 같아요~</td>\n",
       "      <td>1</td>\n",
       "      <td>괜찮은 음악영화가 또 나왔군요 따뜻한 겨울이 될 것 같아요</td>\n",
       "      <td>괜찮다 음악 영화 또 나오다 따뜻하다 겨울 되다 것 같다</td>\n",
       "    </tr>\n",
       "  </tbody>\n",
       "</table>\n",
       "</div>"
      ],
      "text/plain": [
       "   id                              document  label  \\\n",
       "0   1             영상이나 음악이 이쁘다 해도 미화시킨 불륜일뿐      0   \n",
       "1   2          히치콕이 이 영화를 봤다면 분명 박수를 쳤을듯...      1   \n",
       "2   3  괜찮은 음악영화가 또 나왔군요!!! 따뜻한 겨울이 될 것 같아요~      1   \n",
       "\n",
       "                             doc_re                          doc_pos  \n",
       "0         영상이나 음악이 이쁘다 해도 미화시킨 불륜일뿐       영상 음악 이쁘다 해도 미화 시키다 불륜 일 뿐  \n",
       "1         히치콕이 이 영화를 봤다면 분명 박수를 쳤을듯             히치콕 이 영화 보다 분명 박수 치다  \n",
       "2  괜찮은 음악영화가 또 나왔군요 따뜻한 겨울이 될 것 같아요  괜찮다 음악 영화 또 나오다 따뜻하다 겨울 되다 것 같다  "
      ]
     },
     "execution_count": 22,
     "metadata": {},
     "output_type": "execute_result"
    }
   ],
   "source": [
    "train.head(3)"
   ]
  },
  {
   "cell_type": "markdown",
   "id": "cf6389ae",
   "metadata": {},
   "source": [
    "##### case 3"
   ]
  },
  {
   "cell_type": "code",
   "execution_count": 23,
   "id": "87ac001b",
   "metadata": {},
   "outputs": [],
   "source": [
    "pick_pos = [\"Noun\",\"Adjective\",\"Adverb\",\"Verb\",\"Exclamation\"]#,\"Conjunction\"]"
   ]
  },
  {
   "cell_type": "code",
   "execution_count": 24,
   "id": "a36f64c1",
   "metadata": {},
   "outputs": [],
   "source": [
    "def find_pos(doc):\n",
    "    output = []\n",
    "    for txt in okt.pos(doc, norm=True, stem=True):\n",
    "        if txt[1] in pick_pos:\n",
    "            output.append(txt[0])\n",
    "            \n",
    "    return \" \".join(output)   "
   ]
  },
  {
   "cell_type": "code",
   "execution_count": 25,
   "id": "49840acb",
   "metadata": {},
   "outputs": [
    {
     "data": {
      "text/plain": [
       "'좋다 배우 류 영화 찍다 안타깝다 영화'"
      ]
     },
     "execution_count": 25,
     "metadata": {},
     "output_type": "execute_result"
    }
   ],
   "source": [
    "find_pos(txt_smpl)"
   ]
  },
  {
   "cell_type": "code",
   "execution_count": 26,
   "id": "d6f6c973",
   "metadata": {},
   "outputs": [],
   "source": [
    "train['pick_pos'] = train[\"doc_re\"].apply(find_pos)\n",
    "test['pick_pos'] = test[\"doc_re\"].apply(find_pos)"
   ]
  },
  {
   "cell_type": "code",
   "execution_count": 27,
   "id": "f858a463",
   "metadata": {},
   "outputs": [
    {
     "data": {
      "text/html": [
       "<div>\n",
       "<style scoped>\n",
       "    .dataframe tbody tr th:only-of-type {\n",
       "        vertical-align: middle;\n",
       "    }\n",
       "\n",
       "    .dataframe tbody tr th {\n",
       "        vertical-align: top;\n",
       "    }\n",
       "\n",
       "    .dataframe thead th {\n",
       "        text-align: right;\n",
       "    }\n",
       "</style>\n",
       "<table border=\"1\" class=\"dataframe\">\n",
       "  <thead>\n",
       "    <tr style=\"text-align: right;\">\n",
       "      <th></th>\n",
       "      <th>id</th>\n",
       "      <th>document</th>\n",
       "      <th>label</th>\n",
       "      <th>doc_re</th>\n",
       "      <th>doc_pos</th>\n",
       "      <th>pick_pos</th>\n",
       "    </tr>\n",
       "  </thead>\n",
       "  <tbody>\n",
       "    <tr>\n",
       "      <th>4997</th>\n",
       "      <td>4998</td>\n",
       "      <td>가장 실망스러운 영화.. 지금까지 본영화중..</td>\n",
       "      <td>0</td>\n",
       "      <td>가장 실망스러운 영화 지금까지 본영화중</td>\n",
       "      <td>가장 실망 영화 지금 본 영화</td>\n",
       "      <td>가장 실망 영화 지금 영화</td>\n",
       "    </tr>\n",
       "    <tr>\n",
       "      <th>4998</th>\n",
       "      <td>4999</td>\n",
       "      <td>이런 평점 테러, 네이버에서 좀 막아야 하는 것 아닌가?</td>\n",
       "      <td>1</td>\n",
       "      <td>이런 평점 테러 네이버에서 좀 막아야 하는 것 아닌가</td>\n",
       "      <td>이렇다 평점 테러 네이버 좀 막다 하다 것 아니다</td>\n",
       "      <td>이렇다 평점 테러 네이버 좀 막다 하다 것 아니다</td>\n",
       "    </tr>\n",
       "    <tr>\n",
       "      <th>4999</th>\n",
       "      <td>5000</td>\n",
       "      <td>여주인공이 전작에서는 귀여웠는데, 여기선 완전 망했네, 실망이다</td>\n",
       "      <td>0</td>\n",
       "      <td>여주인공이 전작에서는 귀여웠는데 여기선 완전 망했네 실망이다</td>\n",
       "      <td>여 주인공 전작 귀엽다 여 기선 완전 망하다 실망</td>\n",
       "      <td>주인공 전작 귀엽다 기선 완전 망하다 실망</td>\n",
       "    </tr>\n",
       "  </tbody>\n",
       "</table>\n",
       "</div>"
      ],
      "text/plain": [
       "        id                             document  label  \\\n",
       "4997  4998            가장 실망스러운 영화.. 지금까지 본영화중..      0   \n",
       "4998  4999      이런 평점 테러, 네이버에서 좀 막아야 하는 것 아닌가?      1   \n",
       "4999  5000  여주인공이 전작에서는 귀여웠는데, 여기선 완전 망했네, 실망이다      0   \n",
       "\n",
       "                                 doc_re                      doc_pos  \\\n",
       "4997              가장 실망스러운 영화 지금까지 본영화중             가장 실망 영화 지금 본 영화   \n",
       "4998      이런 평점 테러 네이버에서 좀 막아야 하는 것 아닌가  이렇다 평점 테러 네이버 좀 막다 하다 것 아니다   \n",
       "4999  여주인공이 전작에서는 귀여웠는데 여기선 완전 망했네 실망이다  여 주인공 전작 귀엽다 여 기선 완전 망하다 실망   \n",
       "\n",
       "                         pick_pos  \n",
       "4997               가장 실망 영화 지금 영화  \n",
       "4998  이렇다 평점 테러 네이버 좀 막다 하다 것 아니다  \n",
       "4999      주인공 전작 귀엽다 기선 완전 망하다 실망  "
      ]
     },
     "execution_count": 27,
     "metadata": {},
     "output_type": "execute_result"
    }
   ],
   "source": [
    "train.tail(3)"
   ]
  },
  {
   "cell_type": "code",
   "execution_count": null,
   "id": "6be6ed9d",
   "metadata": {},
   "outputs": [],
   "source": []
  },
  {
   "cell_type": "code",
   "execution_count": null,
   "id": "48cf5785",
   "metadata": {},
   "outputs": [],
   "source": []
  },
  {
   "cell_type": "markdown",
   "id": "2b7070b9",
   "metadata": {},
   "source": [
    "### 4. Modeling\n",
    "#### 4-1) feature engineering"
   ]
  },
  {
   "cell_type": "code",
   "execution_count": 28,
   "id": "96dd3bc1",
   "metadata": {},
   "outputs": [],
   "source": [
    "from sklearn.feature_extraction.text import CountVectorizer\n",
    "from sklearn.feature_extraction.text import TfidfVectorizer"
   ]
  },
  {
   "cell_type": "markdown",
   "id": "93f6d01f",
   "metadata": {},
   "source": [
    "##### CountVectorizer"
   ]
  },
  {
   "cell_type": "code",
   "execution_count": 91,
   "id": "706d4f0c",
   "metadata": {},
   "outputs": [],
   "source": [
    "c_vect = CountVectorizer()"
   ]
  },
  {
   "cell_type": "code",
   "execution_count": 97,
   "id": "759ca86a",
   "metadata": {},
   "outputs": [
    {
     "data": {
      "text/plain": [
       "0           영상 음악 이쁘다 해도 미화 시키다 불륜 뿐\n",
       "1               히치콕 이 영화 보다 분명 박수 치다\n",
       "2    괜찮다 음악 영화 또 나오다 따뜻하다 겨울 되다 것 같다\n",
       "Name: pick_pos, dtype: object"
      ]
     },
     "execution_count": 97,
     "metadata": {},
     "output_type": "execute_result"
    }
   ],
   "source": [
    "pd.concat([train[\"pick_pos\"],test[\"pick_pos\"]]).head(3)"
   ]
  },
  {
   "cell_type": "code",
   "execution_count": 88,
   "id": "f2595ca6",
   "metadata": {
    "scrolled": true
   },
   "outputs": [
    {
     "data": {
      "text/plain": [
       "['영상 음악 이쁘다 해도 미화 시키다 불륜 뿐',\n",
       " '히치콕 이 영화 보다 분명 박수 치다',\n",
       " '괜찮다 음악 영화 또 나오다 따뜻하다 겨울 되다 것 같다',\n",
       " '아무래도 지금 보기 너무 유치하다',\n",
       " '지금 영화 그렇다 이 영화 역시 일본 대한 미화 여전하다',\n",
       " '인생 있다 손까락 꼽히다 영화 원작 능가 리메이크 작',\n",
       " '성룡 영화 최악 차라리 러시아워 훨씬 나다',\n",
       " '마음 성숙하다 보다 다르다 보이다 영화 걸작',\n",
       " '가슴 찡하다 오래 기억 남 영화',\n",
       " '결말 기분 나쁘다 공포 매니아 결말',\n",
       " '즐겁다 보다 성장 영화 화이팅',\n",
       " '긴장감 없다 재미 없다 주제 없다',\n",
       " '박신양 때문 프로젝트 망하다 윽 내 사랑',\n",
       " '말 필요없다 절대 길다 느껴지다 않다',\n",
       " '짧다 임팩트 있다 영화 문채원 연기 정말 좋다',\n",
       " '담담하다 서술 해내다 기적 같다 스포츠 사의 하다 이변',\n",
       " '우리 살다 세계 의심 하리',\n",
       " '재미 때 가리다 없다 내용 아무리 만화 라지 거지같다',\n",
       " '살짝 지루하다 수 있다 두 배우 명연기 소재 참신하다',\n",
       " '왜 전투씬 없다 액션 만화 전투씬 왜 없다 왜 적 다 발리다',\n",
       " '처절하다 영화 슬프다 영화 씁쓸하다 영화',\n",
       " '처음 끝 유치 하다 그 없다 난해하다 영화',\n",
       " '전쟁 아이 목소리 차다 거슬리다',\n",
       " '멋지다 상상력 아름답다 영화 여배우 소이 재 발견',\n",
       " '그 시대 이 영화 최고 이다',\n",
       " '재미없다 다애 싫어하다',\n",
       " '한글 이다 션 랜 다',\n",
       " '개 빡치다 하다 드라마 질퍽거려너 토나오다 지경',\n",
       " '카 메 안경 재밌다 지루하다',\n",
       " '닥터후 시리즈 뭐 관심',\n",
       " '정말 것 하다 일이 없다 보다 배속',\n",
       " '현실 지도 환상 지도 않다 불행하다 로맨틱 코미디',\n",
       " '소설 모욕 하다 영화 추상미 자살씬 기억 남다',\n",
       " '은 잊다 울컥',\n",
       " '왜 영점 없다 점도 아깝다',\n",
       " '좋다 의도 만들다 영화 내 그 의도 느끼다 없다',\n",
       " '눈물 흘리다 보다 그리스도인 추천 하다',\n",
       " '역시 피터 잭슨 완전 재밌다',\n",
       " '영화 평점 작성 신분 왜 이렇게 웃기다 보다 빵터지다',\n",
       " '재밌다 스릴 있다 액션 신 기억 남아',\n",
       " '욕 할머니 유쾌하다 그녀 함께 하다 절대 지지 않다 이야기',\n",
       " '사랑스럽다 인물 희비극 엇갈리다 삶',\n",
       " '정준호 출연 영화 두사부일체 거룩하다 계보 보다 욕 나오다',\n",
       " '저 나이 저런 연기 펼치다 있다 자체 기적 가깝다',\n",
       " '그 당시 왜 에로물 보이다',\n",
       " '촌스럽다 지루하다 근데 유동근 아내 선생님 팰땐 웃기다 음',\n",
       " '말 필요없다 다그 영화 보다',\n",
       " '개 노잼 진심 비추다 거 점준애 뭐',\n",
       " '아 댓글 더 웃기다',\n",
       " '과정 나름 볼 하다 결 뻔하다 식상하다',\n",
       " '재밌다 자다 보다 남자 너무 멋지다',\n",
       " '아 진심 한국 애니 미래 이다',\n",
       " '코미디 영화 정말 재미있다 캐릭터 들다 확실하다 좋다',\n",
       " '어린시절 강하다 인상 남기다 영화',\n",
       " '보다 진짜 후회 함 진부하다 지루하다 재미없다 돈 아깝다 보다 짜증나다',\n",
       " '오직 사랑 외치다 위 의미 없다 설정 연속',\n",
       " '어유 답안 나오다 한국영',\n",
       " '정말 나 애니메이션영화 최고 재밌다 영화 이다',\n",
       " '보다 너무 오래 되어다 당시 보다 다른 영화 비다 남다 것 전혀 없다',\n",
       " '재미있다 블루레이 짱짱 화려하다 배경 짱짱',\n",
       " '전 솔직하다 심장 떨어지다 줄 알다 깜놀 개 재밌다',\n",
       " '안토니오 데 라스 어떻다 배우 보여주다',\n",
       " '이 영화 보다 돈 내다 차라리 맨홀 돈 버리다 더 나다',\n",
       " '이렇다 영화 만들다 있다',\n",
       " '일상 흐르다 충격 사건 악 분노 용서 던지다 문제',\n",
       " '어린시절 아직도 잊혀지다 않다 아름답다 사랑 이야기',\n",
       " '부분 부분 수 전 스토리 떠올리다 하다 신기하다 이외',\n",
       " '섹시하다 귀엽다 않다 뭘 어쩌 것 은지',\n",
       " '진짜 점 주다 식 또 관객 뒤통수 치다',\n",
       " '지금 보다 감성 달달 하다 느껴지다 줄 슬프다 엔딩 여운 더 짙다',\n",
       " '정말 지루하다 지루하다 것 참다 힘들다',\n",
       " '네이버 평점 심하다 낚였다 보다 내내 지루하다 끌 까맣다 망설이다',\n",
       " '좀 지루하다 나쁘다 않다',\n",
       " '미리 쓰다 우디앨런 귀엽다 사랑스럽다 유서 농담',\n",
       " '줄거리 이렇게 못 하나 진짜 내 술취해 발 로써 거 나다',\n",
       " '나 이소룡 좋아하다 이렇다 식 어설프다 전기 정말 싫다',\n",
       " '르노 그냥 이름 포로 바꾸다',\n",
       " '압권 대사 신들리다 연기 크아',\n",
       " '연기 너무 어설프다 뭘 말 하다 모르다',\n",
       " '내 좋아하다 배우다 여운 기다 영화 감동 감동',\n",
       " '아이 너무 재미있다 보다 캡숑 짱 추천 이다',\n",
       " '막장 더빙 금지 령 내다 하다 같다',\n",
       " '보다 돈 아깝다 안되다',\n",
       " '좋다 영화 재미 너무 없다',\n",
       " '자살 관광버스 표절의혹 반전 느낌 없다 무채색 영화',\n",
       " '분명 감동 영화 하나 오다 닿다 없다 소리 인지도 모르다',\n",
       " '기분 전환 좋다 영화 이다',\n",
       " '포스터 좋다 보이다 내용 그림 별로',\n",
       " '토토 너무 귀엽다 고양이 버스 한번 보고 싶다',\n",
       " '병맛 같다 스토리 묻히다 빛 잃다 배우 나오다 작품',\n",
       " '정말 중학교 시절 보다 영화 데 너무 보다 또 보다',\n",
       " '이 예술 멋지다 모처럼 진짜 멋지다 영화 접 하다',\n",
       " '나이 새다 시르다 짜다 솔직하다 바잔',\n",
       " '이유 없다 과정 없다 설득 없다 도 없다 음 감독 맘대로 만들다 같다 불친절하다 영화',\n",
       " '기대 아예 안 가지다 재미있다',\n",
       " '표 값 시간 아깝다 영화',\n",
       " '쩌 시나리오 쩌 연기 환상 소피아 결론 제이 밉다 벨 이 축복 받다 놈',\n",
       " '너무 기분 좋다 봣습 다 적극 추천',\n",
       " '왜 그렇다 피트 출현 하다 영화 그렇게 없다',\n",
       " '내 고등학생 때 이 영화 나오다 그때 보다',\n",
       " '융 슈 필라 관계 물꼬 터준 뱅 카셀 카리스마 넘치다 연기',\n",
       " '소 지루하다 이별여행 관심 없다',\n",
       " '그렇다 별로',\n",
       " '브루스 윌리스 이제 영화 막 찍다',\n",
       " '재밌다 보다 유쾌하다 영화 임',\n",
       " '성룡 액션 주성치 스타일 공중부양 두서 없다 내용 전개',\n",
       " '호텔 보이 더 의 꿈 아직도 나 가슴 뛰다 하다',\n",
       " '리즈 마크 왜 이렇다 영화 찍다 배우 아깝다',\n",
       " '지금 보다 엉 성하 당시 어리다 내 가보다 땐 한장 한장 정말 굉장하다',\n",
       " '너무 재밌다 우리 집 비디오 있다',\n",
       " '어린이 보다 좋다 나름 좋다',\n",
       " '미안하다 나다 평점 맞추다 끼어들다',\n",
       " '보고 제목 까먹다 어제 찾다 다시 보다',\n",
       " '김윤석 액션 장면 빼다 전부 지루함',\n",
       " '뿌리깊은나무 커피 대왕세종 야',\n",
       " '이 영화 분명하다 청소년기 꼭 보다 야하다 영화',\n",
       " '개 굿 이다 보다',\n",
       " '꼭 보다 야하다 영화 마지막 정말 소름끼치다 시민 하 걍 닥치고 보다',\n",
       " '거 재다 평점 낮다 희한',\n",
       " '진짜 너무 재밌다 감동 이다',\n",
       " '분노하다 잊다 않다',\n",
       " '억지 공포 감 자 내기 너무나 턱 없이 부족하다 각본 감독 재능',\n",
       " '효 주가 좋다 계속 보다 되어다 효 주가 아직 어리다 밋밋하다 푸다 풋함',\n",
       " '괜찮다 소재 적절하다 섞다 하다 감독 뒷북 치다 배우',\n",
       " '너무 재다 가장 평점 되다 영화',\n",
       " '궁금하다 있다 솔 끄다 박정희 대통령 시절 때 누가 억울하다 죽다 궁금하다',\n",
       " '평점 제대로 안 보다 나르다 저주 다 공포영화 아니다 코미디 영화',\n",
       " '으아 성우 최악 판 보다',\n",
       " '평온하다 자연 어울리다 살다 사람 따뜻하다 이야기',\n",
       " '스승 오늘 평점 알바 하다 돼다',\n",
       " '기발하다 영화 옛날 재밌다 보다',\n",
       " '나레이션 좋다 도 좋다 많다 생각 하다 해주다 드라마 이다',\n",
       " '어리다 때 보고또보고 하다 그 머신건 아직기 남다',\n",
       " '그냥 가슴 뭉클하다 다시 중 고등학교 때 추억 마치 그때 느낌 들다',\n",
       " '너무 재밌다 눈 떼다 없다',\n",
       " '이편 완전 좀비 영화 명작 수준',\n",
       " '이 영화 점 넘다 정상인 영화',\n",
       " '이름 놀랍다 속편 갈수록 점점 안 변하다',\n",
       " '학생 개 답답하다 스토리 어이없다 마지막 학살 웃음 나오다',\n",
       " '굳이 이렇다 평가 받다 영화 개봉 하다 이유 알 싶다',\n",
       " '배신 배신 더하다 골 때리다 영화',\n",
       " '이렇다 카메라 기법 너무 싫다 거 유치하다',\n",
       " '로움 없이 예전 많이 보아 온 공포물 더 어설프다',\n",
       " '정말 만 눈물 펑펑 나다',\n",
       " '진짜 드러나다 싫어하다 호프 모습 인상',\n",
       " '시원하다 웃 수 있다 해주다 드라마',\n",
       " '귀신 나오다 왜 방 불 켜다',\n",
       " '감독 과잉 해석 억지 신파 부르다',\n",
       " '불륜 소재 때문 아니다 걍 재미 없다 특히 윤진서 연기 최악',\n",
       " '인터뷰 형식 단순하다 스토리 구조 다소 지루하다',\n",
       " '자기 세계 빠지다 영화 걸 떠나다 너무 지루하다',\n",
       " '아직 도안 끝나다 전파 낭비 차라리 다큐 해 피디 능력 없다 바꾸다',\n",
       " '마하 풀 스피드 왜 이렇게 비교 되다',\n",
       " '이 영화 만들다 의도 뭐',\n",
       " '기 아니다 확실하다 재미 있다',\n",
       " '처음 범인 알다 마지막 어처구니 없다 점도 아깝다',\n",
       " '젠 나오다 생각 마 자다 더 이상 피해자 스크레치남기 말다',\n",
       " '외롭다 사람 인연 더욱 따뜻하다 다가오다',\n",
       " '허세 스럽다 촌스럽다 예쁘다 않다 너무 과 하다',\n",
       " '',\n",
       " '그래서 뭐 뭘말 싶다',\n",
       " '진짜 행복하다 영화 음악 좋다 배경 예쁘다',\n",
       " '스티치 앓이 중 너무 귀엽다 미치다 영화 완전 감동',\n",
       " '좋다 뭔가 통쾌하다 유머러스하다',\n",
       " '점 만들기 와우 나 착하다 수도권 시청률 를 내다 신기하다 드라마',\n",
       " '이렇게 원작 망치 기도 힘들다',\n",
       " '그렇게 잔인하다 필욘없잖 스너프 영화',\n",
       " '당시 중학생 이다 나르다 울리다 너무나 슬프다 영화',\n",
       " '조잡하다 화면 우선 졸작',\n",
       " '완전 재밌다 재범 소란 커플 더 많이 나오다 좋다',\n",
       " '시청률 좋다 연기력 또한 좋다',\n",
       " '이렇다 식상하다 줄거리 나다 쓰다',\n",
       " '내 걸 왜 건 점수 점 이하 없다 밉다 스 같다',\n",
       " '성룡 영화 좋아하다 것 진짜 최악 서극 감독 왜 이렇다',\n",
       " '난 되게 보다 이렇다 우울하다 영화 좋다 디 가르시아 연기 최고',\n",
       " '평점 왜 이렇다 내 티끌 올리다 놓다',\n",
       " '시간 아깝다 자 이상',\n",
       " '이렇다 좋다 영화 더 많이 홍보 되어다 하다',\n",
       " '영화 예고편 제일 무섭다',\n",
       " '헤어지다 무렵 생각나다 델 킴',\n",
       " '평이 너무 높다 정도 로 하다 되다',\n",
       " '한효주 역시 연기 신 매력 넘치다',\n",
       " '야곱 신부 너무 감명 받다 강추',\n",
       " '류승범 형님 괜히 출현 하다 다른 스릴러 찍을껄',\n",
       " '본인 이 영화 대해 매우 형편 없다 반응 나타내다',\n",
       " '아주 아주 굿',\n",
       " '점 정도 적당하다 영화 역시 졸리다 액숑',\n",
       " '게 짓 이 이영화 평 이다',\n",
       " '모든 씩 다 부족하다 씩',\n",
       " '시나리오 연출 완벽하다 쓰레기 영화',\n",
       " '돈 다발 똥 만들기 쉬다 않다 능력 능력',\n",
       " '보고 짜증나다 죽다 알다 게 재밌다',\n",
       " '진짜 돈 아깝다 열 내 해도 그거 하다',\n",
       " '편 차다 유쾌하다 최고',\n",
       " '마음 속 가득 채우다 영상 단어 고다르 새 잔다르크 나나',\n",
       " '그리움 새롭다 인연 시작 알리다 신호 것 고 자다 표현 되다 영화',\n",
       " '앨리스 하나 버디무비 소녀 버전 노킹 온 헤븐 스 도어',\n",
       " '유치 영화 왜 보고 있다 건지다 그래픽 엉 성',\n",
       " '재미 없다 영국인 역사 속 인물 이용 파렴치하다 농담 따먹다',\n",
       " '빈곤하다 시나리오 식상하다 연출 어울리다 않다 베드 신 여우',\n",
       " '진심 연예인 성우 좀 쓰다 저 뭐 저',\n",
       " '깜짝 파티 이루다 위 분투 이야기 한번 시시하다',\n",
       " '정말 배우 아깝다',\n",
       " '예쁘다 주인공 쓰다 옷 벗기다 다 되다 줄 알다 모양 딱하다',\n",
       " '역사 배경 알 보다 결코 나쁘다 않다 영화',\n",
       " '어리다 때 재미있다 결국 어쩔 수 없다 표절 작',\n",
       " '그만 좀 우려 먹다 재미 흥미 없다 젠 지겹다',\n",
       " '이렇게 평점 높다 이유 모르다',\n",
       " '오래되다 영화 이렇게 실감 나다니다 참으로 명작',\n",
       " '보리 울 여름 노래 정말 좋다',\n",
       " '좋다 영화 이다 마지막 국기 걸리다 모습 볼 때 울 뻔 하다',\n",
       " '처음 나름 좋다 아쉽다 허다 배우 많이 나오다',\n",
       " '아 놓다 이 영화 빨 찍다 뭐 어쩌 것 은지',\n",
       " '지루하다 보다 내내 끝나다 뭐 하다 생각 함',\n",
       " '평행이론 흥미롭다 소재 가지 이렇게 재미없다 만들다 수도 있다',\n",
       " '섹시하다 여자 잠깐 등장 내용 없다 게 무엇',\n",
       " '정말 자다 만들다 영화 감동 영화제작 참여 하다 모든 감사 드리다',\n",
       " '것 뭐 책 낫다 거 보다 셈',\n",
       " '옛날 재밌다 지금 보다 재밌다 영화',\n",
       " '컨데 폴 버호벤 감독 최고 걸작',\n",
       " '이렇다 영화 왜 수입 하다',\n",
       " '제임스딘 그 매력 누가 따라오다',\n",
       " '이 액션 개차반',\n",
       " '나능 좋다 번 보다 초반 전쟁 씬 내용 이해 하다 엌 영화 좋다',\n",
       " '감독 발 차다 넓다 쓰레기 시나리오 배우 캐스팅 하다',\n",
       " '삶 죽음 사이 있다 오해 미련',\n",
       " '가슴 찡하다 우정 담 완전 감동 이다',\n",
       " '완전 재밌다 연기 다 들다 하다 이쁘다 짱짱 대박나다',\n",
       " '상업 영화 정도 재미없다 죄악',\n",
       " '휴 구스 반 산트 영화 다 그렇다 머',\n",
       " '청춘예찬 야하다 장면 그 아름답다 고뇌 집중 해보다',\n",
       " '신선하다 주제 묘 느낌 재밌다',\n",
       " '소소하다 감동 보고 나서다 더 생각나다 영화',\n",
       " '지루하다 자다 죽다 줄 알다',\n",
       " '엘르 패닝 놀랍다 연기 사춘기 소녀 불안하다 감성',\n",
       " '나이 먹다 코난 어리다 때 그대로 재미있다',\n",
       " '중국 애니메이션 한계 보여주다 작품',\n",
       " '갑 그대로 두다 채 을 병 싸우다 블랙코미디 지금 현재 진행형',\n",
       " '주군의태양 때문 보다 돼다 완전 감동 잊다 하다 애니메이션',\n",
       " '킬링타임 킬자 아깝다 영화',\n",
       " '내 보다 일드 중 쵝오',\n",
       " '초딩 위 영화 동의 크다 막스 없다 끝',\n",
       " '재미 있다 작품 성도 있다',\n",
       " '왜 난리치다 대수롭다 않다 작품',\n",
       " '오페라 재미없다 좀더 실감 있다 건 알다 러브 포션 등장 하다 더 재밌다',\n",
       " '내용 안나 애 너무 시끄럽다 짜증나다',\n",
       " '보지 않다 선입견 가다 연출 연기 모두 수준 드라마',\n",
       " '재밌다 하다 끝 참고 보다 허탈 감 뿐 시간 아깝다',\n",
       " '연출 연기 훌륭하다 작품 실제 경기 보다 기분 이드',\n",
       " '어리다 자주 보다 거',\n",
       " '자다 만들다 기도 하다 무엇 좋다 영화 이기 하다',\n",
       " '절로 사람 힘 빠지다 곳 이야기 그래서 더 감동',\n",
       " '너무 재미있다 해피앤딩 끝나다 좋다 태희 행복하다 해주다',\n",
       " '몰입도 주다 요소 없다 것 같다 아쉽다',\n",
       " '이 영화 보다 하다 메가패스 존 보다 있다 감동',\n",
       " '꼭 로 표현 못 하나 의도 알다 좀 짜증나다',\n",
       " '스토리 천재 이렇다 소름끼치다 전개 좋다',\n",
       " '보다 많다 감동 생각 하다 되어다 점도 과분 하다 생각 하다',\n",
       " '고등학교 때 비만 오다 이 영화 떠오르다 때 있다',\n",
       " '오글거리다 지루하다 눈감다 노래 듣다',\n",
       " '은근 히 재미 늘다 나 초딩 때봣',\n",
       " '나 눈부시다 하루 있다 돌아보다 하다 순간 소중하다 하다',\n",
       " '정말 재미없다 그래도 나오미 허드슨 땜',\n",
       " '진쨔 재밌다 요 정말 정말',\n",
       " '평점 중요하다 건 관객수',\n",
       " '일본 판 쏘우 기대하다 실망',\n",
       " '이 영화 보다 머리카락 개다 빠지다 스트레스 때문 화통 터지다',\n",
       " '오다 이 영화 명 장면 아주 많다 또 보고 싶다',\n",
       " '생각 의외로 괜찮다 영화',\n",
       " '연기 허다 접 연애 타임 집중 너무 조화 안되다',\n",
       " '사람 대한 사랑 아프다 시대 같이',\n",
       " '정말 최고 드라마 이다',\n",
       " '무조건 벗다 조잡하다 과 억지스럽다 움 사라지다 아니다',\n",
       " '사랑 아픔 치유 하다 향기 벤다',\n",
       " '중간 웃기 잼 보다 하얗다 움',\n",
       " '재밌다 자다 보다 추천 하다',\n",
       " '풀리다 않다 의문 있다 전체 괜찮다 영화 이다',\n",
       " '코끼리 여자 왜 나오다 엔딩 뭐 진짜 엔딩 무엇 아오 빡 치다',\n",
       " '찬 여자 티아 나가다 호감 덥다 현실 저런 여성 많다',\n",
       " '무미건조하다 웃음 뿐이다 성재 연기 이하',\n",
       " '왜 더빙 개그맨 시키다',\n",
       " '우왕 굿 거 좀 이다',\n",
       " '지루하다 뻔하다 스토리 편이 훨씬 괜찮다 것 같다',\n",
       " '이렇다 엉망 영화 만이 여주 예쁘다 점 줍다',\n",
       " '글로리아 매력 여전하다 살 숨쉬다 영화',\n",
       " '훼 이크 다큐 더 이상 내다 아무렇다 감흥 주지 하다',\n",
       " '아 궁금하다 보다 시간 아깝다 아 시간',\n",
       " '미장센 편집 미학 로서 폭력 정점 달',\n",
       " '어쩌다 걸 보다 선 시간 진짜 아깝다',\n",
       " '태국인 과장 되다 발연기 내내 마음 걸리다 영화',\n",
       " '너무 보이 영화 것 대선 직전 표 끌다 모으다 만들다 영화',\n",
       " '케네디 그냥 케네디 아니다',\n",
       " '작위 설정 냄새 끝 풍기다',\n",
       " '찜찜하다 감독 소유진 왜 죽이다',\n",
       " '어제 딱 한번 보다 완전 막장 덥다 스토리 뻔하다 같다',\n",
       " '마음 어지럽다 힘들다 때 보 다시 행복하다 아름답다 영화',\n",
       " '걸 영화 구 만들다 흑 흑 돈 아깝다',\n",
       " '정말 제목 가슴 울리다 영화',\n",
       " '공룡 쭈쭈 공룡 덥다 세도 역시 삼류',\n",
       " '무료 올레 봣는데 화가 다난 화가',\n",
       " '암 그 잉 감성 파다 독립영화 정돈 만들다 주다 잉',\n",
       " '점 영화 아니다 거 영상 미가 너무 아름답다 번 넘다 보다 영화 임',\n",
       " '다시 보다 액션 명작 만들다 후 덜덜 하다',\n",
       " '파이어 만큼 임팩트 있다 덴젤 워싱턴',\n",
       " '이렇게 식상하다 모르다',\n",
       " '쓰레기 평점 알바 쓰다 보지 말다',\n",
       " '겁나다 기대하다 꼭 보다 야하다 영화 같다',\n",
       " '재밌다 진짜 시청률 낮다 이해 안되다',\n",
       " '기묘하다 내용 영화 언제나 어렵다',\n",
       " '실감 넘치다 스토리 뛰어나다 연출 배우 명연기 기대 없이 보다 대박',\n",
       " '진띰 완전 잘생기다 피터팬',\n",
       " '야마다 솔로 활 그냥 실험 영화',\n",
       " '코미디 아름답다 풀다 미셸 공 드리다 재주',\n",
       " '것 점 아니다 점 주다 내 간절하다 마음',\n",
       " '평점 높다 보다 딱 싫어하다 스타일',\n",
       " '면 아쉽다 영화 것 것 아니다 중간치 성인 코미디',\n",
       " '배우 값좀 해 시시하다 작품',\n",
       " '연출 그저 그렇다 톱 여배우 두 명의 열연 점 받다 가치 충분',\n",
       " '악어 크다 하다 영화 작일 순 없다 법',\n",
       " '이쁘다 주인공 오다 재밌다 코미디 영화',\n",
       " '트페 나오다 줌 아 갬빗 말 갬빗',\n",
       " '한국영 화의 수준 알다 대표 작',\n",
       " '모르다 쟁쟁 다른 작품 있다 묻히다 같다',\n",
       " '그래도 이준기 실컷 보다 좋다',\n",
       " '어쩐지 베다 맷 절친 이다 윌 리브 맷 빼다 볼 것 없다',\n",
       " '처음 순간 충격 평생 잊혀지다 않다 영화',\n",
       " '나 스컬리 아만다 낚시 남자 배우 횡재 하다',\n",
       " '진짜 괜찮다 휴 가슴 답답하다 정도 많다 생각 하다 되다',\n",
       " '뜨겁다 심장 소유 있다 다니엘 데이 루이스 찬사',\n",
       " '탕웨이 정말 매력 여자',\n",
       " '발연기 도저히 보다 진짜 이렇게 연기 하다 상상 하다',\n",
       " '걸 영화 별 이상 준 사람 뭐 최악 쓰레기 영화',\n",
       " '볼 때 마음 따뜻하다 영화',\n",
       " '내 보다 싸우다 장면 재밌다',\n",
       " '이불 일견 꼭 보다 야하다 영화 이다',\n",
       " '마이클 꼴레오네 식당 총 쏘다 그 씬 예술',\n",
       " '이 인생 쓸쓸하다 정면 조명 영화 없다',\n",
       " '오해 의심 만들다 아이러니 공간 파고들다 코 형제 농담 센스',\n",
       " '치매 대해 이해 하다 쉽다 영화 노년 아름답다 받다 들이다',\n",
       " '투 박하다 속 담기다 진실 진정하다 영화 힘',\n",
       " '스타워즈 시리즈 최악 순서 보다 추천 은 진짜 노잼',\n",
       " '지루하다 촌스럽다 슬로우 씬 왜 이렇게 많다 진짜 구려',\n",
       " '내 좋아하다 스타일 아니다 좀 지루하다 감 있다',\n",
       " '가슴 아프다 쫌 거 시기하다',\n",
       " '인생 영화 테이큰 아저씨 이상 감동',\n",
       " '왜 재미없다 리뷰 원작 보고오다 퍼니플래닛 있다',\n",
       " '미국 별 그대 리메이크 하다 고함',\n",
       " '최고 여운 최고 감동 최고 생동감',\n",
       " '배우 아니다 진짜 합창단 이해 감동 코러스 최고',\n",
       " '사공 많다 배 산 간다',\n",
       " '곽지민 매력 터지다 얼굴 너무 이쁘다 스탈 곽지민',\n",
       " '언제 웃기다 하다 끝 끝내 웃기 못 끝나다 블랙코미디',\n",
       " '가지 시간 궈 먹다 거',\n",
       " '결혼 이야기 좀 막장 잇다 드라마 역시 막장 재밌다 내용 좋다',\n",
       " '대한민국 최악 영화 순위 올라가다 옛날 우뢰매 배 낫다',\n",
       " '살인 침묵 하다 사람 관객 침묵 시키다',\n",
       " '정말 잘만 드라마 이다 좋다 결말 이다 너무 일찍 끝나다 아쉽다',\n",
       " '평점 너무 낮다 쨋 재다',\n",
       " '디워 만도 못 영화 오랜 만이',\n",
       " '왜 좋다 배우 가지 이렇게 만들다 하아',\n",
       " '너무도 아름답다 영상 비장하다 스토리',\n",
       " '멜깁슨 로맨틱코미디 이렇게 자다 어울리다',\n",
       " '쓰레기 영화 돈 주다 보다 잼 없다',\n",
       " '이렇다 영화 극장 개봉 하다',\n",
       " '이란 케릭 터 너무 멋있다',\n",
       " '베드 신다 볼 없다 공포영화 맞다 건가',\n",
       " '유치하다 지루하다 닭살 돋다',\n",
       " '어제 센텀시티 보다 너무 좋다 마지막 나다 모르다 박수',\n",
       " '이 좋다 소재 이렇게 하다 없다 말',\n",
       " '생각 하다 만들다 영화',\n",
       " '공동체 것 바로 이렇다 것 느끼다 수 있다 해주다 감사하다',\n",
       " '정우성 배우 다시 보다 되다 영화 허진호 감독 영화 다 좋다',\n",
       " '전편 비교 하다 손색 없다 음악 여전하다 좋다',\n",
       " '기대 없이 다운 받다 봣 늘다 자리 앉다 다 봄 보다 씁쓸하다 가슴 서린 느낌',\n",
       " '정말 재밌다 보다 처음 기다 민가 하다 진짜 배꼽 빠지다 웃다',\n",
       " '나루토 정말 좋아하다 결말 내용 안 이어지다 것 같다 많이 실망',\n",
       " '지다 맞춤법 맞추다 이야기 쇼 평점 점 미개 수준',\n",
       " '이제 보다 후회되다 최고 영화 이다',\n",
       " '가사 피부 아니다 가사 모습 그것',\n",
       " '좀비 공포물 뭐 이리 잔잔하다 조용하다 꼬 정말 지루하다 짝 없다',\n",
       " '사랑 결코 미안하다 말 하다 않다',\n",
       " '킬러조 행 성지 슨례 오다',\n",
       " '재미없다 점 주다 중 한국영 죄다 점준 매미 있다',\n",
       " '이광 국 감독 다음 작품 기대 되다',\n",
       " '시간 가다 모르다 보다 진짜 재밌다 평점 왜 이렇게 낮다 끄다 완전 강추',\n",
       " '이렇게 핵 노잼 만들다 것 재주',\n",
       " '이렇다 건 프랑스 영화 아니다',\n",
       " '오다 그냥 대박 하다 말 없다 굉장하다 재밌다 나다 참가 하다 싶다',\n",
       " '이문식 안내상 박준형 탈선 재연 영화',\n",
       " '현충일 감사하다',\n",
       " '아 진짜 이렇게 재미 없다',\n",
       " '엄마 친구 만들다 보다 거 너무 눈물나다',\n",
       " '이 영화 보 내용 너무 아름답다 로마 가보다',\n",
       " '생각 해보다 머리 풀 귀신 왜 나오다 야하다 의심 가다 영화',\n",
       " '공포 조금 즐기다 편이 것 도대체 휴',\n",
       " '선생님 이영화 보여주다 괜찮다 영화 같다 특히 잔윌 크다 나오다 아이참 귀엽다',\n",
       " '무에타이 태극권 배우다 옹박',\n",
       " '윤은혜 주지훈 무조',\n",
       " '평점 왜 이렇게 낮다 너무 사랑스럽다 로맨스영화 재미있다',\n",
       " '전혀 지루하다 왜 지루하다 하다 강추 이다',\n",
       " '내용 도대체 결말 어이없다 제발 안봣으 좋다',\n",
       " '램페이지 시리즈 내 인생 최고 영화 중 하나',\n",
       " '왜 마이나스 점 없다 있다 좋다',\n",
       " '신데렐라 극치 비현실적 소재 어처구니 없다 결말',\n",
       " '이 영화 보고 발 킬머 팬 되어다',\n",
       " '재다 특이하다 별 나다 사람 이해 하다 쉬다 않다',\n",
       " '별로 재미없다 결말 시원찮다',\n",
       " '감동 영화 굿윌 헌팅 느낌 제지',\n",
       " '잘만 킹 시대 여기 끝 삼류',\n",
       " '우웩 이해 하다 노력 하다 못하겟음',\n",
       " '다니엘 데이 루이스 섬세하다 연기 다시 한번 감동',\n",
       " '점도 아깝다',\n",
       " '케이 졸리 액션 아무렇다 조화 이루다 못 그냥 질주 다',\n",
       " '유치하다 지루함 돈 아깝다 보다 정도',\n",
       " '암울하다 영화 노추',\n",
       " '아직 보다 기대 크다 재밌다 것 같다',\n",
       " '예쁘다 포스터 아 드럽다 이지현 아깝다',\n",
       " '마츠다류헤이 놀랍다 데뷔 작',\n",
       " '너무 좋다 양조위 눈빛 빨다 들다 같다 그림 한편 보다 듯 영화',\n",
       " '역겹다 미워하다 없다 악동 미치다 모',\n",
       " '재미없다 연기 넘다 오글거리다',\n",
       " '평점 너무 높다 조금 줄이다',\n",
       " '김현주 이쁘다 나오다 영화 고로 점 만점 점',\n",
       " '장쯔이 무협 영화 나오다 낫다 연기 최악',\n",
       " '영화 그냥 투어 촬영 편집 보다 졸리다',\n",
       " '같다 영화 말 안되다 황당하다 영화 진심',\n",
       " '웩 게뭐 젠장 자 이상 화보 다가 나오다 처음',\n",
       " '안 나오다 못 최악 속편',\n",
       " '진심 이 재밌다 분투 청춘 기 차다',\n",
       " '주인공 얼굴 무술 개 영화 차라리 학점 첩보원 보다',\n",
       " '알다 즐기다 있다 영화 풍자 껄끄럽 않다 유쾌하다 느껴지다',\n",
       " '코난 짱 욥 돋다 안 척 하다 미란 은근 챙기다 코난',\n",
       " '시원하다 아주 미미하다 엉 성하다 스토리 영화',\n",
       " '보다 졸음 오다 졸다 깨 어보 개운하다 영화',\n",
       " '나 들어가다 돼다 들어가다 싶다 아 보다 답답하다 죽다 줄 알다',\n",
       " '유가 없다 유가 있다 도아',\n",
       " '너무 너무 재미있다',\n",
       " '구석구석 막장 이닌 게 없다 처절하다 막장',\n",
       " '그냥 별 개 주다 버릇 나빠지다',\n",
       " '김강우 나오다 영화 재미없다',\n",
       " '걸 보다 나르다 탓 하다 휴',\n",
       " '장 피에르 쥬네 그 상미 상상력 가히 천재',\n",
       " '예전 엄청 무섭다 보다 크레이븐 최고 작품',\n",
       " '팝핑 캔디 빼다 볼 없다 이렇다 쓰레기 개봉 하다',\n",
       " '최악 영화 더 하다 없다',\n",
       " '완전하다 취향 넘다 재밌다 보다 마지막 장면 최고',\n",
       " '화려하다 비주 얼 무겁다 주제 그 어디 재미 찾기 힘들다',\n",
       " '공포 저 반전 저',\n",
       " '미스캐스팅 반전 엉 성하다 시나리오',\n",
       " '망하다 남다 임 류 문제 같다 노진구',\n",
       " '엄청나다 걸작 러시아 날아오다 사랑 최고 화중',\n",
       " '난 이 무슨 냉전시대 나오다 영화인 줄 알다',\n",
       " '궁금하다 끝 보다 심하다 억지스럽다 가상현실 아니다 이뭐병',\n",
       " '신현준 어설프다 코믹 연기 기억 남다',\n",
       " '소재 스케이트 쓴다 이해 않다 간다 결말 엉 성하다 아쉽다 영화',\n",
       " '만 소름 한번 돋다 영화 개인 좋다 같다',\n",
       " '네 가보다',\n",
       " '영화 보다 십분 중단 하다 참으로 어렵다 일 이 영화 해내다',\n",
       " '고니 위버 아니다 충분하다 재미 로만 점 받다 영화',\n",
       " '이영화 한마디 표현 하자 곤드레만드레',\n",
       " '아름답다 영화 감사하다 마음 보다 것 같다',\n",
       " '흥미진진 가수 맞추다 재미 쏠쏠하다 아이유 때 첨 보다 넘다 재미나',\n",
       " '모 어이없다 불륜 영화',\n",
       " '모로 말 안되다 재미 없다',\n",
       " '갈수록 웃기 이수정 착하다 척 하므다 남자 남자 휴 짜잉나첨 잼 나다 욕 나오다',\n",
       " '따뜻하다 영화 너무 좋다',\n",
       " '순수하다 아름답다 도 영화 한몫 하다',\n",
       " '견자단 성룡 대결씬 이쁘다 여자 볼 나머진 기대 하다 말다',\n",
       " '그 바 연기 유치하다 스토리 눈 거슬리다 하다',\n",
       " '의도 하다 바르다 모르다 영화 하품 유발 하다',\n",
       " '인정받다 폴 앤더슨 영화로 재능 허비하다',\n",
       " '이맘때 되다 생각나다 또 보다 진짜 달달 당',\n",
       " '출연 지네 끼리 놀라다 소리 자빠지다',\n",
       " '마지막 점 나오다 부분 너무 억지 앞 부분 괜찮다',\n",
       " '한국판 러브스토리 최고봉',\n",
       " '나름 색깔 느껴지다 영화 이다 볼 만하 느끼다 보다',\n",
       " '조연 인간 다운 연기 돋보이다 영화',\n",
       " '밥 호 스킨스 치열하다 연기',\n",
       " '무섭다 웃기다 않다 아주 보다 정도 아니다',\n",
       " '이 재밌다 하다 원작 보다 보다 휴',\n",
       " '이렇다 감동 만이 이렇다',\n",
       " '오 내 걸 영화관 돈 주다 보다',\n",
       " '너무 감동 재미있다 드라마',\n",
       " '연기 연출 최악 보다 초반 때리다 친 영화 처음',\n",
       " '궁금증 자극 하다 예고편 요 러시아 영화 신선하다',\n",
       " '조금 아쉽다 부분 있다 지다 방황 하다 청소년 자다 묘사 거 같다',\n",
       " '반전 위해 억지로 끼우다 맞추다 스토리',\n",
       " '기대다 하다 보고 나선 보다 생각 최강 코믹',\n",
       " '편집 너무 재미 없다 가해 것 하다',\n",
       " '배속 보다 지루하다',\n",
       " '난 공포영화 좋아하다 펴다 것 진짜 별로',\n",
       " '최고 이다 극적 전개 밀려오다 감동 너무 감사하다',\n",
       " '배속 보다 기네 망정 기도 진짜 어처구니 없다',\n",
       " '소재 아깝다 내 만들다 것 잘만 겄 다',\n",
       " '이 어떻다 평점 지다',\n",
       " '정말 첨으로 영화 졸다',\n",
       " '편 끝내다 하다 편',\n",
       " '소재 자다 살리다 재밌다 봄 나카시마 미카 짱',\n",
       " '여자 옷벗다 거나 계속 찍다 것 나다',\n",
       " '이렇게 재밌다 걸 왜 이제야 보다',\n",
       " '램버트 주인공 멋지다 급 액션 가능하다 아쉽다',\n",
       " '공리 다른 여배우 쓰다 암튼 영화 굳다 굳다',\n",
       " '진짜 재밌다 여배우 남자배우 다 매력',\n",
       " '재미없다 시간 좀 아깝다',\n",
       " '섬세하다 표현 전미선 리얼 연기 또 보다 보다',\n",
       " '최고 내 완전 좋아하다 드라마 또 보다 굿',\n",
       " '발상 뛰어나다 지루하다',\n",
       " '조디 연기 너무 아름답다 영화',\n",
       " '심쿵심쿵 미치다 이수혁 땜 잠 못자다 자꾸 아른거리다',\n",
       " '갈수록 빠지다 드 주말 기 달다 지다',\n",
       " '호 혹성탈출 이렇다 망작',\n",
       " '보다 보다 신비하다 마력 이끌다 리 하다 천연색 집대성 작',\n",
       " '시험 준비 시간 쪼개다 보다',\n",
       " '종훈 이형 가오 상하 왜 이렇다 나오다',\n",
       " '정도 되게 만들다',\n",
       " '악플 자자하다 예고편 보다 이미 상황 끝',\n",
       " '유치 써다 렁 악 최악 최악 개봉 작 것 아니다',\n",
       " '작위 연출 공감 하다 힘드다 감동 요소 상당하다 별로 이다',\n",
       " '재미있다 영화 왜 흥행 실패하다 아쉽다',\n",
       " '그럴듯하다 뭔가 담다 내다 전혀 오다 닿다 않다 영화 뭐',\n",
       " '너무 좋아하다 영화 전 보다 같다 가슴 따뜻하다 뭉클하다',\n",
       " '망하다 이유 알다 비호감 캐릭터 난립',\n",
       " '롱롱롱 테이크 환장하다 만큼 지루하다 영화',\n",
       " '것 성룡 영화 아니다 그렇다',\n",
       " '전 정말 재미있다 보다 평점 너무 낮다 올려놓다',\n",
       " '홍상수 필 나다 예전 청춘 필 나오다 게 특색 전혀 없다',\n",
       " '예전 보다 지루하다 내용 기억 안남',\n",
       " '초딩 용 실사영화 못',\n",
       " '잔잔하다 성장 영화 결코 지루하다 않다',\n",
       " '진정하다 쒸레기 처음 보다 알다',\n",
       " '영화 보다 내내 슬프다 아 정말 감탄 절로 이야기 전개도 허다 접다',\n",
       " '퀄릿 떨어지다 내용 상 펴다 범',\n",
       " '유치 뽕짝 예전 향수 떠올리다 선 플 때문 보다 토나오다 뻔하다',\n",
       " '어리다 적 나 에스퍼맨 영웅 데 일리 여신 이다',\n",
       " '거 평점 거 알다 너무 높다',\n",
       " '영화 보다 이렇게 신나다 졸다 본적 처음 완전 욕 나오다',\n",
       " '분위기 좋다 이 영화 보다 마음 자세 다잡다 보다',\n",
       " '웨슬리 이제 류 배우 되다 건가',\n",
       " '열악하다 환경 속 살아나다 수작',\n",
       " '시대 뒤 떨어지다 하다 나 감각 너무 구리',\n",
       " '자기 영화 리메이크 하다 감독 패기',\n",
       " '휴 높다 평점 주신 분 수준 높다 건가 이해 불능',\n",
       " '기세 아깝다 캬악 퉷',\n",
       " '연출 굿 분위기 상미 음악 굿굿',\n",
       " '뭔가 낚 기분 차라리 금 때 코믹 물 가다',\n",
       " '가다 역대 가장 좋다 말 하다 손색 없다',\n",
       " '클린트 이스트 우드 감독 제 죽다 이렇다 영화 만들다 감사하다',\n",
       " '방영 전 기대하다 있다 역다 말 나오다 공감 되다 굿굿굿',\n",
       " '무간도 아 류작 보다 말다',\n",
       " '말 적 뿐 행동 다 보여주다 뭐 어렵다',\n",
       " '커서 보 이 영화 엄청 슬프다 써 게리 드 멋잇드앙',\n",
       " '재미 없다 용도 어렵다 결말 멍청하다 건지다 말 않다 되다 장면 나오다',\n",
       " '홍콩 도박 영화 시작 다시 보다 재밌다',\n",
       " '같다 없다 이리 자다 만들다 싶다 정도 정말 감동 영화 이다',\n",
       " '자아 대한 해묵 고찰 방해 하다 단조롭다 진행',\n",
       " '무지하다 시대 앤 그나마 먹히다',\n",
       " '왜 사랑 하다 살다 정말 중요하다 중 내 왜 하다 알다 없다',\n",
       " '겁나다 재밌다 만하 생각 없이 보다 눈물 크리 맞다 영화',\n",
       " '내용 함께 교훈 주다 좋다 영화 이다 오래되다 지금 재다',\n",
       " '머리 발끝 사랑스럽다 영화 굳다 굳다',\n",
       " '밀 보 비치 아니다 보다 그냥 개독 영화',\n",
       " '것 뭐 앞뒤 내용 없다 뚝뚝 끊기다',\n",
       " '스릴러 정도 완성 도르다 자랑 하다 수작',\n",
       " '기본 시나리오 꽝',\n",
       " '너무 지루함 비밀 문 반 따라가다',\n",
       " '이렇다 분위기 좋다 비현실적 어둡다 기분 훈훈하다',\n",
       " '연기 상당하다 거슬리다 주인공 이상하다 풋풋하다',\n",
       " '모든 배우 겉도 연기 특수하다 영화 돼다 버리다',\n",
       " '실망 노골 사실 왜곡 느껴지다 편견 가득 신고',\n",
       " '개봉 하다 재미 없다',\n",
       " '이민정 최다니엘 지루함 오글거리다 밀려오다',\n",
       " '드라마 흡입 없다 문근영 정도 없다 자신감 없다 같다',\n",
       " '거 분명 보다 전혀 기억 없다',\n",
       " '시리즈 극장판 옮기다 애니메이션 중 최고다',\n",
       " '어딜 가든 윗사람 자다 만나다 영화 재미있다',\n",
       " '소재 상당하다 좋다 전환 되다 후 조금 흠 한번 몰입 해보다',\n",
       " '읽다 않다 스캔 되다 장면 압권 뭐 영화',\n",
       " '여성 위 영화 솔직하다 관념 뒤 집기 역 부족',\n",
       " '몇장 웃기다 평가 하다 너무 지루하다',\n",
       " '덕 뜨다 영화 걍 쓰레기',\n",
       " '플롯 단순하다 부담 없이 볼 수 있다 영화',\n",
       " '킬링타임 따위 안되다 영화 강하다 비추다',\n",
       " '말 그대로 원작 파괴 하다 버리다 졸작',\n",
       " '결코 끊다 낼 수 없다 족쇄 그 불가분 우리 구원 해주다',\n",
       " '솔직하다 별 여운 없다 전문 가용 영화인 듯',\n",
       " '무슨 약 하다 이렇다 생각 하다',\n",
       " '옴 마야 린 형사 너무 좋다',\n",
       " '전이 나이 이나 똑같다 허다 접 영화',\n",
       " '캐나다 관광 홍보 영상 물 뻔하다 스토리',\n",
       " '정말 너무나도 만들다 영화',\n",
       " '파리 사랑 싶다 사람 사랑 싶다 삶 사랑 싶다 만들다',\n",
       " '진실되다 감동 현직 특수부대 대단하다 멋 잇다 느껴지다',\n",
       " '효 누나 나오다 엄청 재 밉다 가족 사랑 느끼다 감동 이다',\n",
       " '잠 주다 것 자체 아깝다 영화 영화 막장드라마',\n",
       " '기대하다 않다 보다 하나 버리다 없다 영화 이다',\n",
       " '최악 정말 별로 중 별로',\n",
       " '찬미 예수님 원장 수녀 사랑 삶 깨달음 저희 받다',\n",
       " '그냥 꽤 재밌다 엘렌 페이지 이쁘다',\n",
       " '충무로 한국영 알바 있다 확신 하다 평점 오점',\n",
       " '진정하다 자아 찾다 뮤 리엘 부럽다 나 언제 찾다 있다',\n",
       " '감독 이상하다 내 시간 돌리다',\n",
       " '것 모르다 그냥 보다 사람 이렇게 울리다 애니메이션 이다 모르다',\n",
       " '로완 앳킨슨 나오다 보다 하다 것 뭐',\n",
       " '끄다 깊다 내용 없다 초딩 이해 긋다 참나 별 개도 아깝다',\n",
       " '펭귄 몇 마리 빼다 건지다 동물 없다',\n",
       " '그 이전 나오다 장군 아들 액션 신 허다 접다',\n",
       " '역시 찰리채플린 아이 연기력 가상하다 멋지다',\n",
       " '마지막 진짜 달달 하다 진심 재밌다',\n",
       " '연장 하다 좋다 너무 재밌다 요정 자매 정말 부럽다',\n",
       " '그저 그렇다 헐리우드 재난영화 속 하다 영화',\n",
       " '하다 번 찡했꼬 번 표정 관리 안되다 울 따다',\n",
       " '액션 정말 만들다 사토 멋있다 즐기다 충분하다 영화',\n",
       " '명화 기름종이 대고 그리다 하다 나 역시 이렇게 만들다 것',\n",
       " '세상 떳떳하다 올바르다 살기 너무 어렵다 많다 생각 하다 만들다 영화',\n",
       " '최악 그 자체 배우 연기 인상 영화',\n",
       " '이렇다 것 영화로 만들다 대단하다 일본 영화계',\n",
       " '노총각 동화 예쁘다 여배우 순진무구 남자',\n",
       " '어리다 때 정말 많이 보다 영화',\n",
       " '만일 이 지루함 긴장감 바꾸다 수만 있다',\n",
       " '무섭다 미스테리 복잡하다 여운 있다 영화',\n",
       " '평점 적다 로그인 하다 진짜 재밌다 재미 업다 사람 을제 이해 하다 임',\n",
       " '거숙재 첨부 해 가다 묵념',\n",
       " '화보 내내 암 암 다 걸리다 것 같다 최고 유발 영화',\n",
       " '이번 겨울 꼭 보다 야하다 영화 강추',\n",
       " '음악 함께 파리 있다 느낌',\n",
       " '보다 보다 너무 재미있다 못 신분 많턴데 꼭 보다',\n",
       " '들다 이야기 평범하다 이야기',\n",
       " '보다 너무 감동 이다',\n",
       " '불쌍하다 이다 휴 어쩌다 이렇다 돼다 누',\n",
       " '영화 흐름 너무 느슨하다 쓰레기 영화',\n",
       " '무섭다 사실 지나치다 클리셰 남발 후반 부의 질질 끄다 짜증나다',\n",
       " '점도 아깝다 영화 뭐 것',\n",
       " '곧 편 개봉 꼭 보다 완전 잼',\n",
       " '내 인생 처음 영화 끝나다 동시 소름끼치다 영화',\n",
       " '영화 보다 내내 재미있다 감명 받다',\n",
       " '눈 귀 마음 즐겁다 영화',\n",
       " '살짝 어두워지다 시작 하다 부분 여전하다 좋다',\n",
       " '타인 삶 함께 두고두고 또 보다 영화 소장 가치 정말 있다',\n",
       " '독특 독특 약간 야하다 하다',\n",
       " '처음 접 하다 스토리 너무 어색 어색',\n",
       " '키링 타임 좋다 전형 로맨틱 코 매다',\n",
       " '하나 안 무섭다',\n",
       " '클레멘타인 영웅 샐러맨더 비밀 이다 또 하나 걸작',\n",
       " '재밌다 하다 시간 때우다 기용 딱이다 듯',\n",
       " '아 진심 하다 말 없다',\n",
       " '눈물 끊다 않다 너무 사랑스럽다 모두',\n",
       " '이르다 안되다 아니다 내 시간 돌려주다',\n",
       " '코미디 영화 주인공 한번 웃기 하다 신기하다 영화',\n",
       " '너무 기분 좋다 영화 이다 가슴 따뜻하다 많다 얻다 가다',\n",
       " '정웅인 연기 분명 어색하다 검사 역 강수연 어쩡 캐스팅 이군',\n",
       " '완전 스릴 쾌감 심장 쫄깃 짱짱',\n",
       " '너 있다 너무 좋다 말 해주다 싶다',\n",
       " '뭘 말 하다 알다 감정이입 전혀 되다 않다',\n",
       " '킬링타임 용 보다 것 아니다',\n",
       " '어리다 적 보다 감동 먹다 최고 이다 지금 찾아보다 해도 없다',\n",
       " '영국 및 미국 연예계 대한 지식 있다 함께 웃 수 있다',\n",
       " '촌스럽다 다큐 기법 떡 칠하다 현실 동떨어지다 자극 소재 다루다',\n",
       " '윤아 해 저 매일 너 내 운명 드라마 보다 학생',\n",
       " '내 생애 처음 눈물 흘리다 만들다 영화',\n",
       " '',\n",
       " '이 영화 평점 걸 말 해주다',\n",
       " '아 늘어지다 재미없다 코믹 스릴러 아니다',\n",
       " '주몽 같이 시작 하다 이기다 써다',\n",
       " '의 수준 안되다 같다',\n",
       " '유치원 학예회 것 재다',\n",
       " '조니뎁 영화 가장 기억 남다 로맨티시즘',\n",
       " '한중 합작 거 왜 스토리 재미 작가 생각 없다',\n",
       " '걸 재밌다 하다 보다 어휴',\n",
       " '기대 않다 하다 봣는데 진짜 내용 좋다 재미 있다',\n",
       " '좀 고급 못 만드 차다 한심하다',\n",
       " '어리숙하다 감독 미미하다 내용',\n",
       " '점주 게 아깝다 것 영화',\n",
       " '평점 속지 말다 처음 지루하다 죽다 뭐 재밌다 건지다',\n",
       " '하다 치의 오차 없다 직 쏘다 비현실적 각본',\n",
       " '신인 배우 상큼 이야기 이다 태국 땜 엄청 웃다',\n",
       " '명작 이 바로 프랑스 영화 싶다 여운 길다 남다',\n",
       " '이준익 표 연출 고구려 멸망 소재 망하다',\n",
       " '지훈 오빠 무 멋있다',\n",
       " '초등 학년 중학생 넘어가다 때 하다 드라마 정말 그리다',\n",
       " '가짜 성룡 나오다 짜지다 영화 돈 뭐길',\n",
       " '귀엽다 사랑스럽다 영화',\n",
       " '앞 더욱 흥미진진 해 질 것 같다 정말 재밌다 드라마 기대 만발',\n",
       " '이 쿡 영화 현실',\n",
       " '너무 뻔하다 잔잔하다 생각 편집 별로',\n",
       " '킬 리언 머피 진짜 최고',\n",
       " '편 힘 너무 많이 써다 주성치 영화 그다지 재미 없다',\n",
       " '화면 아름답다 내용 사실',\n",
       " '시간 가다 모르다 보다 엄청 집중 하다 보다 되다 재밌다 강추',\n",
       " '세명 이서 보다 셋 다 졸다 너무 재미없다 돈 아깝다',\n",
       " '최악 아니다 점 개줌',\n",
       " '핵 노잼 보다 언제 끝나다 함 완전 지루',\n",
       " '내 이제껏 영화 가장 별로 임',\n",
       " '다 떠나다 진짜 지루하다 배우 아깝다',\n",
       " '명품 영화 결코 지루하다 않다',\n",
       " '로맨틱코미디 로맨스 없다 코미디 없다 넌 정체 모',\n",
       " '어리다 때 너무 재밌다 보다 나 로망',\n",
       " '하다 없다 것 영화',\n",
       " '쾌도홍길동 이다',\n",
       " '장예모 감독 동아시아 감수성 자다 표현 하다 감독 있다',\n",
       " '배우 흑역사 들다 영화 출연 하다 자책 감 시달리다',\n",
       " '멋지다 장면 좋다 영화 깃 동양 미덕 박수',\n",
       " '맞추다 위해 오다 여러분 부릉부릉',\n",
       " '길 지루함 느끼다 하다 아랍 냄새 느끼다 서사 대작',\n",
       " '등장인물 때문 답답하다 죽다 알다 소재 그렇다 싸하다',\n",
       " '명작',\n",
       " '광구 정말 굳다 이다 추천',\n",
       " '신선하다 소재 이렇게 만들다 어이 상실 구먼',\n",
       " '장면 하나 하나 버리다 없다',\n",
       " '왜 하필 주제가 고양이 고양이 좋아하다 사람 진짜 싫어하다',\n",
       " '타다 성 폭스 형님 토론 보다',\n",
       " '타다 진지하다 만들다 급 넘어서다 거 장난 만들다',\n",
       " '보다 그냥 즐겁다 보고 후회 안 하다',\n",
       " '가장 재밌다 보다 영화 뭐 하다 다섯손가락 안 꼽히다 영화',\n",
       " '진짜 보다 다시 보다 재미있다',\n",
       " '베트멘 나오다 집사 바로 스타 장군',\n",
       " '별로 남자 불상 하다',\n",
       " '시사회 보다 솔직하다 난 모르다 대중 영화 보다 사람 비추다',\n",
       " '굳이 말 필요하다 케이블 단골 화이자 명작',\n",
       " '주제가 뭐 모르다 조잡 스럽다',\n",
       " '아 정말 최악 영화포스터 낚 이지마 셈',\n",
       " '주변 사람 권 해주다 싶다 영화',\n",
       " '',\n",
       " '유사라 왜 주연 카메오 급 출연 대박 이삼',\n",
       " '러닝 타임 기다 스토리 따라서 계속 보다 되다 배우 연기력 굉장하다 뛰어나다',\n",
       " '사랑 통교 관 아름답다 영화',\n",
       " '편 걸작 편 스필버그 빠지다 나서다 졸작',\n",
       " '보다 않다 혹은 보지 않다 하다 진짜 단면 보다 같다',\n",
       " '틴 에이 저 무비 모든 를 따르다 졸작',\n",
       " '조엘 슈마허 작품 도저히 생각 하다 수 없다',\n",
       " '편 너무 재밌다 케빈 해리 마브 명품 연기 최고',\n",
       " '너무 많다 캐릭터 따르다 하다',\n",
       " '제목 재밌다 보이다 지겹다 번 끊다 겨우 보다',\n",
       " '편의 그 대단하다 도대체 어딨다',\n",
       " '중 도덕 나오니 아이 원츄',\n",
       " '누가 누가 연기 제일 못 하나 전부 전부 제일 하다 쯧쯧',\n",
       " '은근 히 중독 되다 같다 한번 보다 멈추다 수 없다 재다',\n",
       " '졸잼 개 재다 꿀잼 안 사람 꼭 보다',\n",
       " '극장 여간 하다 자다 안좋다 편',\n",
       " '웃기다 되다 그때 코드 좀 안 맞다 끄다',\n",
       " '당연하다 점 마음 같다 만점 주다',\n",
       " '돈 날리다 공감 좀',\n",
       " '액션 매니아 너무나 크다 선물 오우삼 마지막 느와르',\n",
       " '드라마 보다 배우 함께 울 웃다 행복하다 아직도 괜사 그리다',\n",
       " '링 이름 마케팅 하다 이제 너무 멀다 이야기 감 많이 잃다',\n",
       " '진짜 영애 시즌 때 살 진짜 많이 빠지다 너무 재밌다 보다',\n",
       " '크다 진짜 웃기다 보심 후회 안함 크다',\n",
       " '엽문 아니다 염장 처음 재밌다 나중 볼 없다',\n",
       " '식코 버전',\n",
       " '전형 미국 영웅 주의 점수 후 하다 주다 브 밉다 초코렛 쯧',\n",
       " '제목 외국 영화 따르다 게 너무 꼴봬기싫다',\n",
       " '편 기대하다 보다 실망',\n",
       " '성가 숭고하다 신념 좋다 영화',\n",
       " '카프 의 영화 언제나 따뜻하다',\n",
       " '지루하다 사람 사랑 해봤다',\n",
       " '재밌다 강추 한번 보셩',\n",
       " '장진 감독 영화 창조 혁신 좋다',\n",
       " '영화 지루하다 설득 제로',\n",
       " '이 드라마 정말 보다 드라마 중 최고 임 완전 설레다 슬프다 너무 좋다',\n",
       " '추억 영화 마지막 엔딩 장면 나오다 음악 인상 깊다',\n",
       " '좋다 영화 이다 강추 박소영 진짜 이쁘다',\n",
       " '영상 너무 좋다 분위기 뿐 아니다 모든',\n",
       " '보다 소름 돋다 굿',\n",
       " '뭔가 허다 진짜 볼일 없다',\n",
       " '칼 자다 쓰다 요리사 이다 더 의 스티븐 갈이 그리다',\n",
       " '역시 감독 작품 좋다 요강 추하다',\n",
       " '뭐 뭔가 이상하다 웃기다 고해',\n",
       " '복선 주다 앞 나오다 얘기 암시 하다 이해 가안 댐',\n",
       " '사람 어디서 어떻다 무슨 재미 찾다 한혜진 보다 재미',\n",
       " '감독 쌍용차',\n",
       " '독특하다 소녀 감성 느껴지다 마지막 쓰다 쓸다',\n",
       " '만화책 안 사람 멀다 인지도 모르다',\n",
       " '살인마 혹은 피해자 어느 누구 감정이입 안되다 영화',\n",
       " '타일러 페리 발연기 롭코헨 발 연출 르노 반갑다',\n",
       " '아름답다 영화 보다 마음 하다 켜다 찡하다 따뜻하다 영화',\n",
       " '재미 별로 없다',\n",
       " '정말 감탄사 나오다 꼭 보다 번 보다',\n",
       " '아이 부모 넘다 지루하다 영화 이다',\n",
       " '흐름 맞다 물리 하다 플래시백 없다 게 낫다',\n",
       " '젠 평점 믿다 돼다',\n",
       " '아 제발 한국 개봉 좀 하다 제휴 걸리다 네이버 보다',\n",
       " '공포영화 아니다 휴먼',\n",
       " '말 필요없다 영화 매일 듣다 있다',\n",
       " '엽문 단역 나오다 애가 나오다',\n",
       " '작품 성은 조은지 모르다 재미 완죤 꽝',\n",
       " '큐브 감독 보다 개 실 망',\n",
       " '양진우 드라마 속 사람 눈 띄다 힘내다',\n",
       " '평생 마음 속 기억 되다 명작 정말 슬프다 행복하다',\n",
       " '자꾸 생각나다 찾아보다 되다 영화',\n",
       " '진짜 짱',\n",
       " '내 보다 최고 영화 중 하나',\n",
       " '슈퍼 액션 밨는데 역쉬 임청하',\n",
       " '퇴보 되다 한국 영화 씁쓸하다',\n",
       " '서유리 변실금 딱 한번 피식 하다 바람 양심 점 더 보탰다',\n",
       " '어리다 때 보고 지금 다시 보다 웃음 먹음 늘다 영화',\n",
       " '울다 정말 아름답다 이야기',\n",
       " '남자 로망 문근영 리즈시절 보기 만해 미소 절로 나오다 영화',\n",
       " '윤발 성 거기 뭐 하다 아무리 보다 것 좀 아니다',\n",
       " '꼬꼬 마 애 보다 좋아하다 영화',\n",
       " '이해 가다 상황 인문 몇 없다 애니스톤 자주 잘못 선택 하다',\n",
       " '킬러 자기 마음대로 다 하다 요별 재미없다',\n",
       " '캐릭터 매력 있다 없다',\n",
       " '몇번 보다 재미 감동 느끼다 부족함 없다 영화',\n",
       " '지루하다 않다 곳곳 위트 정말 즐겁다',\n",
       " '지루하다 끝 다 볼 수가 없다',\n",
       " '시사회 보다 정말 보다 내내 재밌다 감동 이다 진짜 재밌다',\n",
       " '장면 장면 너무 아름답다 여운 남다 영화',\n",
       " '정도 웰 메이드 아니다 아이버슨 함장 너무 허무하다 죽다 점',\n",
       " '김창완 이다 왜 나오다 김창완 땜 망하다',\n",
       " '마셰티 바운티 킬러 비교 불가 재미 닥 병맛 그닥',\n",
       " '가면 정말 충격 이다',\n",
       " '배고프다 영화 오다 근원 욕망 표 추다',\n",
       " '엄청 재밌다 진짜 강추',\n",
       " '알 모도 바르다 천재 이야기 구성 연출',\n",
       " '그래도 볼 가치 있다 영화',\n",
       " '명작 명작 당장 예매 하다',\n",
       " '뼈 깎다 극기 역경 속 하다 남자 성장 심다 그리다 내다',\n",
       " '어리다 때 보다 충격 길 잃다 버리다 정말 쉬다 하다',\n",
       " '잼 따다 잼 따다 잼 따다 잼 따다 잼 따다 잼 따다 잼 따다 잼 따다',\n",
       " '우리 자신 크기 맞다 사랑 선택 하다',\n",
       " '아 견자단 형님 왜 이렇다 영화',\n",
       " '평점 점주 신분 계시 저 거의 빅뱅이론 이렇다 좋아하다 분 이다 이해 가안 가다',\n",
       " '생각 재다 가볍다 볼 함',\n",
       " '역시 김수현 작가 이다 드라마 너무 보다 있다',\n",
       " '영화평론가 이렇다 것 스포 질 하다 싶다 질 질 것 들이다',\n",
       " '거 폭스라이프 채널 하다 웬만하다 같다 이함 진짜 정말 재미있다 보다',\n",
       " '최고다 스포츠 영화 빠져들다 하다 영화',\n",
       " '남녀 노소 모두 부적합하다 난감하다 영화',\n",
       " '연기 이렇게 하다 있다',\n",
       " '닥치고 보다 내 보다 디즈니 중 단연 으뜸 최고다 왜 인제 보다 후회되다',\n",
       " '웃기 못 코미디 무섭다 않다 공포 뭐 다르다',\n",
       " '야망 키우다 싶다 남자라면 꼭 보다 야하다 영화',\n",
       " '부끄럽다 알다 따딷 따따 다다',\n",
       " '저기 판타스틱 편 어딧어',\n",
       " '최고 아니다 만들다 않다',\n",
       " '평점 너무 낮다 점 이상은 되다 영환 데',\n",
       " '킬링타임 용 그 이상 그 이하 아니다',\n",
       " '명 명 만들다 연출 기술',\n",
       " '점수 받다 가치 없다 영화',\n",
       " '정말 최고 드라마 외국 드라마 첨으로 깊다 빠져듬',\n",
       " '내용 허다 술 표현 허다 술 천박하다',\n",
       " '줄리엣 비노 쉬 눈 깜빡이다 반하다 버리다',\n",
       " '삼류 액션 그래도 재밌다',\n",
       " '별 의미 없다 섹스 능력 좋다 소문나다 서로 하다 경쟁 하다',\n",
       " '여운 이렇게 오래 가다 영화 처음',\n",
       " '기여 나와라 극장판 코 가미 마지막 아니다',\n",
       " '명화 거 보고 움 진짜 감동',\n",
       " '팝송 좋다 코 감동 있다 점 나오다 너무 낮다 점 줍다',\n",
       " '긴장도 그저 그렇다 흥미롭다 않다 하우스 스토리',\n",
       " '웃기다 않다 재미 없다 피 빨림',\n",
       " '지금 생생하다 생각나다 정도 열심히 보다 별 개 주다 충분',\n",
       " '오다 진짜 재밌다 무섭다 기도 긴장 하다 되다 최고',\n",
       " '대한민국 최고 중 최고 드라마',\n",
       " '흥미롭다 연출 섬세하다 감 정선 돋보이다 위태 영화',\n",
       " '성장하다 모습 볼 수 있다 좋다',\n",
       " '외계 남성 남성 변하다 과정 리얼 하다',\n",
       " '전편 갈수록 덜하다 여전하다 웃기',\n",
       " '내 생애 최악 한국 공포영화 영화 하다 그렇다 걍 동영상',\n",
       " '나름 괜찮다 여배우 몸매 대박',\n",
       " '뛰어나다 상미 가볍다 듯 가볍다 않다 사랑 대하',\n",
       " '짱 아이 보다 최고 영화 강력 추천',\n",
       " '뭔가 난해 하다 사람 마음 이란',\n",
       " '아완 죤 반하다 주인공 팡 지엔 완죤 멋지다',\n",
       " '재미 없다 감동 없다 무엇 주인공 자체 마음 안드',\n",
       " '차다 돈 아깝다 비디오 용 영화 원작 어디',\n",
       " '은혼 성우진 비슷하다 재밌다',\n",
       " '내용 줄거리 모르다 기대 없이 보다 그렇다 매우 재미있다',\n",
       " '토요명화 나오다 보다 재밌다',\n",
       " '재미없다 지루하다 왜 이리 감동 이다',\n",
       " '인간 내면 보여주다 내 안 독기 실체 보다 정화 되다',\n",
       " '액션 점 액션 때문 보다 야하다',\n",
       " '헐랭 한마디 하다',\n",
       " '보다 말 필요없다 조금 혼란 스럽다 모르다',\n",
       " '아직 그 감동 가슴 남다 것 같다',\n",
       " '밑 알바 쩐다 완전 정말 늘어지다 보다 끌다 이 영화 두번쨰',\n",
       " '견자단 화려하다 발차기 나름 재밌다 보다 작품',\n",
       " '음악 너무 좋다 영화 진짜 재밌다 요강 츄',\n",
       " '아 강승 밉다 타다 깝 여기 건지다 있다 오로지 그녀',\n",
       " '뭐 이렇다 더럽다 영화 다 있다',\n",
       " '일본인 이 영화 창피해 하다',\n",
       " '절대 보지 말다 시간 완전 개 안습',\n",
       " '결말 이상하다 매니아 층 좋아하다',\n",
       " '뒤늦다 보고 완전 빠지다 듬 배우 연기 호흡 환상 스토리 좋다 최고 임',\n",
       " '곽경택 감독 지휘 하 연기 싶다 날 이다 정말 대단하다 분',\n",
       " '연애 더빙 전문 성우 혼 내주다 좋다',\n",
       " '편 사람 완전 실망 비디오 용도 고려 울 거들다 무표정',\n",
       " '질적 비 실감 가득하다 슬픔 자다 다가오다 매력 발견',\n",
       " '평점 왜 이렇게 낮다 편 유쾌하다 영화',\n",
       " '굉장 재밌다 새롭다 인물 많다 좋다',\n",
       " '소재 좋다 스토리 매끄럽다 연기 너무 어설프다',\n",
       " '룰 언제나 똑같다 최고 연기 최고 감동',\n",
       " '그냥 느낌 좋다 영화 하나 이다 위노나 라이더 나오다 좋다 따다',\n",
       " '최고 홍콩영화 하나 전의 느낌 나 직도 남다',\n",
       " '줄거리 보다 흥미진진 해보다 연출 억지 코미디 진부하다',\n",
       " '평론가 놈 평점 어찌 그따위',\n",
       " '진짜 정도 형편 없다 치밀하다 떨어지다 영화 다 있다',\n",
       " '밑 평가 하다 다 스텝',\n",
       " '주인공 인물 차다 맘 안 남편 욜라 불쌍하다',\n",
       " '암 걸리다 같다 연기 보다 짜증 만남 연출 기도 개차반',\n",
       " '진짜 킬링타임 용 보다 사람 보다 다 보다 괜히 기분 나빠지다',\n",
       " '지금 보다 재미있다 정말 최고 코믹 영화 생각 이듭 니',\n",
       " '글쎄 쇼킹 하다 노골 하다 필요 엽기',\n",
       " '펑점 조절 위원회 나오다 웃음 평점 점 짜다 리 아니다 웃음',\n",
       " '최고 영화 울다 오다 꼭 보다 볼 까맣다 망설이다 분 정말 최고 이다',\n",
       " '두더지 햇빛 보다 눈 멀다',\n",
       " '결말 메다 비 푸다 포 완전 멋지다 이제 서다 알다',\n",
       " '다 들다 재미있다 보구 계시 재밌다',\n",
       " '허탈하다 영화배우 아깝다',\n",
       " '감독 터지다 장면 하나 웃기다 예',\n",
       " '무조건 점 정말 재밌다',\n",
       " '재미없다 지루하다 인원 쇼 저예산영화 완전 통 수영화 임 시간 아깝다 영화',\n",
       " '내 평생 보다 애니 영화 가장 잔잔하다 가장 재미있다',\n",
       " '보다 가슴 먹다 먹다 목 메 오다',\n",
       " '카피 정말 공포 삼키다 버리다 오프닝 대감 처참하다 부쉈다',\n",
       " '올림픽 우승자 것 빼다 별거 없다 주인공',\n",
       " '일본 연기 하다 오글거리다 죽다 너무 하다',\n",
       " '거 엄청 좋아하다 금은 기억 안나',\n",
       " '진짜 재미있다 보다 최 곱다',\n",
       " '숨기다 걸작 보다 느낌 역대 재미',\n",
       " '정말 좋다 영화 이다 같다',\n",
       " '하아 유 플 티비 보다 나레이션 때문 끝 보다',\n",
       " '자장면 먹다 태연하다 살인 저지르다 브루스 윌리스',\n",
       " '컨저링 평점 비슷하다 보다 평점 좀 내다 되다 것 같다',\n",
       " '신은경 재기 위해 옷 벗다 노출 영화',\n",
       " '오다 깜찍하다 톡톡 튀다 보다 즐겁다',\n",
       " '완득이 캐릭터 머 다르다 타다',\n",
       " '작전 비교 하다 형편 없다 영화',\n",
       " '철 없다 나르다 되돌아보다 영화 마음 따뜻하다 영화',\n",
       " '예술 흥행 그닥',\n",
       " '효 원작 기묘 발랄하다 어디 가다',\n",
       " '내 인생 최고 영화 흐르다 마음속 남다 같다',\n",
       " '이영화 끝 보다 있다 사람 진정하다 용 자임',\n",
       " '더 되다 영화 재밌다 이성재 짱',\n",
       " '진자 생각 없이 보다 봣는데 개 흥미진진',\n",
       " '유치하다 무난 하다 진부하다 영화',\n",
       " '정말 훌룔 스토리 반전 이다',\n",
       " '이 영화 보고 난후 극장 사실 유심 히 보다 되어다',\n",
       " '무슨 이렇다 영화 내 이해력 부족하다 건가',\n",
       " '이 영화 영화 아니다 삶 그 자체',\n",
       " '연기 바 내용 바 너무 과 하다',\n",
       " '정말 재밌다 박용하 너무 멋지다',\n",
       " '류시원 이세창 재미없다 했을껄',\n",
       " '아 가다 무릎팍 넘다 빵빵 터지다 무릎팍 보고 사람 손',\n",
       " '나이 거 친구 죽다 웃다 보다 케이블 한번 더 보다 번 보다 같다',\n",
       " '진심 재미없다 걸 왜 돈 주다 봄',\n",
       " '어제 케이블 하다 보다 정말 드럽다 재미없다',\n",
       " '돈 주다 보다 돈 아깝다 공짜 보다 시간 아깝다',\n",
       " '배틀로얄 이름 파다 되다 하다 젠장',\n",
       " '키 아누 리브 스 생애 최고 작품',\n",
       " '기원 드릅 재미없다 유',\n",
       " '세 이하 용 오글거리다 보다 맛',\n",
       " '완전 잼 없다 평점 점도 아깝다 움',\n",
       " '다소 아쉽다 면도 있다 그래도 최고 감동',\n",
       " '난 어리다 적 보다 재밌다',\n",
       " '독립영화관 마지막 회 작품 이다',\n",
       " '당신 마음 정서 채우다 영화 잭 바라지 안녕',\n",
       " '평론가 평점 왜 존재 하다 모르다 영화 대해 알기 하나',\n",
       " '나 마음속 점 점 없다 아쉽다',\n",
       " '동호 아저씨 살리다 은 개그 아니다 개그 영화',\n",
       " '광대하다 스케일 영화 재미 주네',\n",
       " '이 새끼 영화 아니다 자서전 잖다',\n",
       " '좀비 영화 제일 맘 들다 작품',\n",
       " '인생 영화 임창정 연기 정말 좋다',\n",
       " '심오하다 형제 애 다루다 명작 영화 역시 짱구 명불허전 무 재밌다',\n",
       " '앤디 가르시아 눈물 맥 라이언 사랑스럽다 움',\n",
       " '엉 성하다 드라마 주연 죽다 조연 살아나다',\n",
       " '어리다 적꿈 나타나다 일리 므흣',\n",
       " '아쉽다 점도 있다 나쁘다 않다 영화',\n",
       " '난이 거 진 재밌다 봣엇 정선경 너무 터 푸다',\n",
       " '성공 속편 딱 편 언제 보다 즐겁다',\n",
       " '원작 묘미 어디가 각색 연출 너무 허다 접다',\n",
       " '억지 거짓말 해 놓다 관갹들 보고 믿다',\n",
       " '단순하다 유치하다 않다 쪽 괜찮다 영화',\n",
       " '열리다 입 남 드라마 헐뜯다 못 는걸 왜남탓 하다 안되다',\n",
       " '사이트 가다 에피소드 다 보 이해 가다 흥미롭다',\n",
       " '임청하 누님 미모 미모 배역 특유 카리스마 연기력 보다 영화',\n",
       " '배우 열심히 뛰다 내 심장 별로 안 뛰다',\n",
       " '제일 재미없다 영화 배우 연기 및 스토리 등등',\n",
       " '내 당신 대신 보다 고통 겪다 라크 헉',\n",
       " '등장인물 감 정선 모두 묘 하다 매력',\n",
       " '별로 류 영화 이제 지겹다',\n",
       " '캬 최고 영화 이다 평점 왠만하다 남기다 남자라면 필수 영화',\n",
       " '추억 떠오르다 너무 재다 보다',\n",
       " '점 덥다 싶다',\n",
       " '대단하다 실망 스럽다 움 씨 큐브 보다',\n",
       " '편집 되다 흑 빂츠갔더 편집 되다 있다 뙇',\n",
       " '것 시간 때우다 기용 못 미치다 시간 아깝다',\n",
       " '좋다 것 모두 모으다 억지스럽다 해피 엔딩 싫다',\n",
       " '전개도 너무 빠르다 연기력 별로 그냥 애 들다 영화',\n",
       " '미안하다 무슨 말 모르다 왜 양철북 그리다 집착 하다 모르다',\n",
       " '독특하다 뉘앙스 외 엉망 진창',\n",
       " '것 예술 이다 진짜 자다 만들다',\n",
       " '이 영화 한마디 정의 하다 수 있다 웃기다 코미디',\n",
       " '액션 으리 으리 으리 으리',\n",
       " '그 당시 영상 담 수 있다 거의 모든 중국 것',\n",
       " '고니 위버 열연 푹 빠지다 보다 영화',\n",
       " '코미디 질 신파 질',\n",
       " '더블 타겟 비슷하다 느낌 삼류 영화',\n",
       " '첨 좀 볼 가다 하다 시간 아깝다',\n",
       " '이보 더 감동 있다 황금 같다 영화 있다',\n",
       " '발칙하다 상상력 만들다 내다 명작',\n",
       " ...]"
      ]
     },
     "execution_count": 88,
     "metadata": {},
     "output_type": "execute_result"
    }
   ],
   "source": [
    "list(pd.concat([train[\"pick_pos\"],test[\"pick_pos\"]]))"
   ]
  },
  {
   "cell_type": "code",
   "execution_count": 30,
   "id": "78794569",
   "metadata": {},
   "outputs": [
    {
     "data": {
      "text/plain": [
       "<10000x8551 sparse matrix of type '<class 'numpy.int64'>'\n",
       "\twith 59101 stored elements in Compressed Sparse Row format>"
      ]
     },
     "execution_count": 30,
     "metadata": {},
     "output_type": "execute_result"
    }
   ],
   "source": [
    "c_vect.fit_transform(list(pd.concat([train[\"pick_pos\"],test[\"pick_pos\"]])))"
   ]
  },
  {
   "cell_type": "code",
   "execution_count": 36,
   "id": "a921b6ef",
   "metadata": {},
   "outputs": [
    {
     "data": {
      "text/plain": [
       "CountVectorizer()"
      ]
     },
     "execution_count": 36,
     "metadata": {},
     "output_type": "execute_result"
    }
   ],
   "source": [
    "c_vect.fit(list(pd.concat([train[\"pick_pos\"],test[\"pick_pos\"]])))"
   ]
  },
  {
   "cell_type": "code",
   "execution_count": 37,
   "id": "d9c5b39a",
   "metadata": {},
   "outputs": [],
   "source": [
    "X_train = c_vect.transform(train[\"pick_pos\"])\n",
    "y_train = train[\"label\"]"
   ]
  },
  {
   "cell_type": "code",
   "execution_count": null,
   "id": "375d1a2a",
   "metadata": {},
   "outputs": [],
   "source": [
    "print(X_train.shape)\n",
    "print(X_train)"
   ]
  },
  {
   "cell_type": "code",
   "execution_count": 43,
   "id": "4195a092",
   "metadata": {},
   "outputs": [],
   "source": [
    "X_test = c_vect.transform(test[\"pick_pos\"])"
   ]
  },
  {
   "cell_type": "code",
   "execution_count": 46,
   "id": "0656b0a1",
   "metadata": {},
   "outputs": [
    {
     "data": {
      "text/html": [
       "<div>\n",
       "<style scoped>\n",
       "    .dataframe tbody tr th:only-of-type {\n",
       "        vertical-align: middle;\n",
       "    }\n",
       "\n",
       "    .dataframe tbody tr th {\n",
       "        vertical-align: top;\n",
       "    }\n",
       "\n",
       "    .dataframe thead th {\n",
       "        text-align: right;\n",
       "    }\n",
       "</style>\n",
       "<table border=\"1\" class=\"dataframe\">\n",
       "  <thead>\n",
       "    <tr style=\"text-align: right;\">\n",
       "      <th></th>\n",
       "      <th>id</th>\n",
       "      <th>document</th>\n",
       "      <th>doc_re</th>\n",
       "      <th>doc_pos</th>\n",
       "      <th>pick_pos</th>\n",
       "    </tr>\n",
       "  </thead>\n",
       "  <tbody>\n",
       "    <tr>\n",
       "      <th>0</th>\n",
       "      <td>1</td>\n",
       "      <td>시간 때우기 좋은 영화 지루함</td>\n",
       "      <td>시간 때우기 좋은 영화 지루함</td>\n",
       "      <td>시간 때우다 좋다 영화 지루함</td>\n",
       "      <td>시간 때우다 좋다 영화 지루함</td>\n",
       "    </tr>\n",
       "    <tr>\n",
       "      <th>1</th>\n",
       "      <td>2</td>\n",
       "      <td>훈훈한 정이 느껴지는 영화! 가족끼리 드라마 보듯이 보면 딱~!</td>\n",
       "      <td>훈훈한 정이 느껴지는 영화 가족끼리 드라마 보듯이 보면 딱</td>\n",
       "      <td>훈훈하다 정이 느껴지다 영화 가족 끼리 드라마 보다 보다 딱</td>\n",
       "      <td>훈훈하다 정이 느껴지다 영화 가족 끼리 드라마 보다 보다 딱</td>\n",
       "    </tr>\n",
       "    <tr>\n",
       "      <th>2</th>\n",
       "      <td>3</td>\n",
       "      <td>Childhood fantasy</td>\n",
       "      <td>Childhood fantasy</td>\n",
       "      <td>Childhood fantasy</td>\n",
       "      <td></td>\n",
       "    </tr>\n",
       "  </tbody>\n",
       "</table>\n",
       "</div>"
      ],
      "text/plain": [
       "   id                             document                            doc_re  \\\n",
       "0   1                     시간 때우기 좋은 영화 지루함                  시간 때우기 좋은 영화 지루함   \n",
       "1   2  훈훈한 정이 느껴지는 영화! 가족끼리 드라마 보듯이 보면 딱~!  훈훈한 정이 느껴지는 영화 가족끼리 드라마 보듯이 보면 딱   \n",
       "2   3                    Childhood fantasy                 Childhood fantasy   \n",
       "\n",
       "                             doc_pos                           pick_pos  \n",
       "0                   시간 때우다 좋다 영화 지루함                   시간 때우다 좋다 영화 지루함  \n",
       "1  훈훈하다 정이 느껴지다 영화 가족 끼리 드라마 보다 보다 딱  훈훈하다 정이 느껴지다 영화 가족 끼리 드라마 보다 보다 딱  \n",
       "2                  Childhood fantasy                                     "
      ]
     },
     "execution_count": 46,
     "metadata": {},
     "output_type": "execute_result"
    }
   ],
   "source": [
    "test.head(3)"
   ]
  },
  {
   "cell_type": "code",
   "execution_count": null,
   "id": "f9f4f0a1",
   "metadata": {},
   "outputs": [],
   "source": [
    "print(X_test.shape)\n",
    "print(X_test)"
   ]
  },
  {
   "cell_type": "markdown",
   "id": "32caba2f",
   "metadata": {},
   "source": [
    "##### TF-IDF "
   ]
  },
  {
   "cell_type": "code",
   "execution_count": 130,
   "id": "3fe34722",
   "metadata": {},
   "outputs": [],
   "source": [
    "t_vect = TfidfVectorizer()"
   ]
  },
  {
   "cell_type": "code",
   "execution_count": 131,
   "id": "aa94ed74",
   "metadata": {},
   "outputs": [
    {
     "data": {
      "text/plain": [
       "TfidfVectorizer(analyzer='char')"
      ]
     },
     "execution_count": 131,
     "metadata": {},
     "output_type": "execute_result"
    }
   ],
   "source": [
    "t_vect.fit(list(pd.concat([train[\"pick_pos\"],test[\"pick_pos\"]])))"
   ]
  },
  {
   "cell_type": "code",
   "execution_count": 132,
   "id": "e57a97c1",
   "metadata": {},
   "outputs": [],
   "source": [
    "X_train = t_vect.transform(train[\"pick_pos\"])\n",
    "y_train = train[\"label\"]"
   ]
  },
  {
   "cell_type": "code",
   "execution_count": null,
   "id": "0393c9ec",
   "metadata": {},
   "outputs": [],
   "source": [
    "print(X_train.shape)\n",
    "print(X_train)"
   ]
  },
  {
   "cell_type": "code",
   "execution_count": 97,
   "id": "2404b28a",
   "metadata": {},
   "outputs": [],
   "source": [
    "X_test = t_vect.transform(test[\"pick_pos\"])"
   ]
  },
  {
   "cell_type": "code",
   "execution_count": 99,
   "id": "41ee14ce",
   "metadata": {},
   "outputs": [
    {
     "data": {
      "text/html": [
       "<div>\n",
       "<style scoped>\n",
       "    .dataframe tbody tr th:only-of-type {\n",
       "        vertical-align: middle;\n",
       "    }\n",
       "\n",
       "    .dataframe tbody tr th {\n",
       "        vertical-align: top;\n",
       "    }\n",
       "\n",
       "    .dataframe thead th {\n",
       "        text-align: right;\n",
       "    }\n",
       "</style>\n",
       "<table border=\"1\" class=\"dataframe\">\n",
       "  <thead>\n",
       "    <tr style=\"text-align: right;\">\n",
       "      <th></th>\n",
       "      <th>id</th>\n",
       "      <th>document</th>\n",
       "      <th>doc_re</th>\n",
       "      <th>doc_pos</th>\n",
       "      <th>pick_pos</th>\n",
       "    </tr>\n",
       "  </thead>\n",
       "  <tbody>\n",
       "    <tr>\n",
       "      <th>0</th>\n",
       "      <td>1</td>\n",
       "      <td>시간 때우기 좋은 영화 지루함</td>\n",
       "      <td>시간 때우기 좋은 영화 지루함</td>\n",
       "      <td>시간 때우다 좋다 영화 지루함</td>\n",
       "      <td>시간 때우다 좋다 영화 지루함</td>\n",
       "    </tr>\n",
       "  </tbody>\n",
       "</table>\n",
       "</div>"
      ],
      "text/plain": [
       "   id          document            doc_re           doc_pos          pick_pos\n",
       "0   1  시간 때우기 좋은 영화 지루함  시간 때우기 좋은 영화 지루함  시간 때우다 좋다 영화 지루함  시간 때우다 좋다 영화 지루함"
      ]
     },
     "execution_count": 99,
     "metadata": {},
     "output_type": "execute_result"
    }
   ],
   "source": [
    "test.head(1)"
   ]
  },
  {
   "cell_type": "code",
   "execution_count": null,
   "id": "886b70bb",
   "metadata": {},
   "outputs": [],
   "source": [
    "print(X_test.shape)\n",
    "print(X_test)"
   ]
  },
  {
   "cell_type": "code",
   "execution_count": null,
   "id": "8cc676dd",
   "metadata": {},
   "outputs": [],
   "source": []
  },
  {
   "cell_type": "markdown",
   "id": "e0432ef3",
   "metadata": {},
   "source": [
    "#### 4-2) Model : LogisticReg"
   ]
  },
  {
   "cell_type": "code",
   "execution_count": 47,
   "id": "7a4082a2",
   "metadata": {},
   "outputs": [],
   "source": [
    "from sklearn.linear_model import LogisticRegression"
   ]
  },
  {
   "cell_type": "code",
   "execution_count": 100,
   "id": "44ec193d",
   "metadata": {},
   "outputs": [],
   "source": [
    "l_reg = LogisticRegression(class_weight=\"balanced\", max_iter=3000, random_state=44)"
   ]
  },
  {
   "cell_type": "code",
   "execution_count": 49,
   "id": "67f51a2a",
   "metadata": {},
   "outputs": [
    {
     "data": {
      "text/plain": [
       "LogisticRegression(class_weight='balanced', max_iter=3000, random_state=44)"
      ]
     },
     "execution_count": 49,
     "metadata": {},
     "output_type": "execute_result"
    }
   ],
   "source": [
    "l_reg.fit(X_train, y_train)"
   ]
  },
  {
   "cell_type": "code",
   "execution_count": 50,
   "id": "b7fa00b0",
   "metadata": {},
   "outputs": [
    {
     "data": {
      "text/plain": [
       "array([0, 1, 0, ..., 1, 1, 1], dtype=int64)"
      ]
     },
     "execution_count": 50,
     "metadata": {},
     "output_type": "execute_result"
    }
   ],
   "source": [
    "pred = l_reg.predict(X_test)\n",
    "pred"
   ]
  },
  {
   "cell_type": "markdown",
   "id": "9e4c35d4",
   "metadata": {},
   "source": [
    "#### 4-3) Model : RandomForest"
   ]
  },
  {
   "cell_type": "code",
   "execution_count": 64,
   "id": "8dc8f23f",
   "metadata": {},
   "outputs": [],
   "source": [
    "from sklearn.ensemble import RandomForestClassifier"
   ]
  },
  {
   "cell_type": "code",
   "execution_count": 101,
   "id": "e9243542",
   "metadata": {},
   "outputs": [],
   "source": [
    "rf_clf = RandomForestClassifier(n_estimators=400, random_state=44)"
   ]
  },
  {
   "cell_type": "code",
   "execution_count": 66,
   "id": "1fddd08c",
   "metadata": {},
   "outputs": [
    {
     "data": {
      "text/plain": [
       "RandomForestClassifier(n_estimators=800, random_state=44)"
      ]
     },
     "execution_count": 66,
     "metadata": {},
     "output_type": "execute_result"
    }
   ],
   "source": [
    "rf_clf.fit(X_train, y_train)"
   ]
  },
  {
   "cell_type": "code",
   "execution_count": 67,
   "id": "0823be31",
   "metadata": {},
   "outputs": [
    {
     "data": {
      "text/plain": [
       "array([1, 1, 1, ..., 1, 0, 1], dtype=int64)"
      ]
     },
     "execution_count": 67,
     "metadata": {},
     "output_type": "execute_result"
    }
   ],
   "source": [
    "pred = rf_clf.predict(X_test)\n",
    "pred"
   ]
  },
  {
   "cell_type": "markdown",
   "id": "1fe968ac",
   "metadata": {},
   "source": [
    "#### 4-4) Model : LightGBM"
   ]
  },
  {
   "cell_type": "code",
   "execution_count": 74,
   "id": "916be6bb",
   "metadata": {},
   "outputs": [],
   "source": [
    "from lightgbm import LGBMClassifier"
   ]
  },
  {
   "cell_type": "code",
   "execution_count": 102,
   "id": "ac5593a6",
   "metadata": {},
   "outputs": [],
   "source": [
    "lgbm_clf = LGBMClassifier(random_state=44)"
   ]
  },
  {
   "cell_type": "code",
   "execution_count": 82,
   "id": "6aed5b79",
   "metadata": {},
   "outputs": [],
   "source": [
    "X_train = X_train.astype(np.float32)"
   ]
  },
  {
   "cell_type": "code",
   "execution_count": 83,
   "id": "494841c6",
   "metadata": {},
   "outputs": [
    {
     "data": {
      "text/plain": [
       "LGBMClassifier(random_state=44)"
      ]
     },
     "execution_count": 83,
     "metadata": {},
     "output_type": "execute_result"
    }
   ],
   "source": [
    "lgbm_clf.fit(X_train, y_train)"
   ]
  },
  {
   "cell_type": "markdown",
   "id": "faeafd05",
   "metadata": {},
   "source": [
    "#### 4-5) Model : Naive Bayes"
   ]
  },
  {
   "cell_type": "code",
   "execution_count": 108,
   "id": "ee97d68d",
   "metadata": {},
   "outputs": [],
   "source": [
    "from sklearn.naive_bayes import BernoulliNB"
   ]
  },
  {
   "cell_type": "code",
   "execution_count": 109,
   "id": "1f70cb21",
   "metadata": {},
   "outputs": [],
   "source": [
    "bnb_clf = BernoulliNB()"
   ]
  },
  {
   "cell_type": "code",
   "execution_count": null,
   "id": "773979ba",
   "metadata": {},
   "outputs": [],
   "source": [
    "bnb_clf.fit(X_train, y_train)"
   ]
  },
  {
   "cell_type": "code",
   "execution_count": null,
   "id": "915c1820",
   "metadata": {},
   "outputs": [],
   "source": []
  },
  {
   "cell_type": "code",
   "execution_count": null,
   "id": "c28d8821",
   "metadata": {},
   "outputs": [],
   "source": []
  },
  {
   "cell_type": "markdown",
   "id": "805dbb8b",
   "metadata": {},
   "source": [
    "### 5. Submission / Report"
   ]
  },
  {
   "cell_type": "code",
   "execution_count": 52,
   "id": "b94c596c",
   "metadata": {},
   "outputs": [
    {
     "data": {
      "text/html": [
       "<div>\n",
       "<style scoped>\n",
       "    .dataframe tbody tr th:only-of-type {\n",
       "        vertical-align: middle;\n",
       "    }\n",
       "\n",
       "    .dataframe tbody tr th {\n",
       "        vertical-align: top;\n",
       "    }\n",
       "\n",
       "    .dataframe thead th {\n",
       "        text-align: right;\n",
       "    }\n",
       "</style>\n",
       "<table border=\"1\" class=\"dataframe\">\n",
       "  <thead>\n",
       "    <tr style=\"text-align: right;\">\n",
       "      <th></th>\n",
       "      <th>id</th>\n",
       "      <th>label</th>\n",
       "    </tr>\n",
       "  </thead>\n",
       "  <tbody>\n",
       "    <tr>\n",
       "      <th>0</th>\n",
       "      <td>1</td>\n",
       "      <td>0</td>\n",
       "    </tr>\n",
       "    <tr>\n",
       "      <th>1</th>\n",
       "      <td>2</td>\n",
       "      <td>1</td>\n",
       "    </tr>\n",
       "    <tr>\n",
       "      <th>2</th>\n",
       "      <td>3</td>\n",
       "      <td>0</td>\n",
       "    </tr>\n",
       "  </tbody>\n",
       "</table>\n",
       "</div>"
      ],
      "text/plain": [
       "   id  label\n",
       "0   1      0\n",
       "1   2      1\n",
       "2   3      0"
      ]
     },
     "execution_count": 52,
     "metadata": {},
     "output_type": "execute_result"
    }
   ],
   "source": [
    "submission[\"label\"] = pred\n",
    "submission.head(3)"
   ]
  },
  {
   "cell_type": "code",
   "execution_count": 53,
   "id": "209c6c99",
   "metadata": {},
   "outputs": [],
   "source": [
    "submission.to_csv(\"dacom_movie-220321_1348.csv\", index=False)"
   ]
  },
  {
   "cell_type": "code",
   "execution_count": null,
   "id": "17dc3b3a",
   "metadata": {},
   "outputs": [],
   "source": []
  },
  {
   "cell_type": "code",
   "execution_count": null,
   "id": "6aae8dd7",
   "metadata": {},
   "outputs": [],
   "source": []
  },
  {
   "cell_type": "markdown",
   "id": "bd5b8382",
   "metadata": {},
   "source": [
    "### 6. Evaluation / Validation"
   ]
  },
  {
   "cell_type": "code",
   "execution_count": 60,
   "id": "5cf41572",
   "metadata": {},
   "outputs": [],
   "source": [
    "from sklearn.model_selection import train_test_split\n",
    "from sklearn.metrics import accuracy_score"
   ]
  },
  {
   "cell_type": "code",
   "execution_count": 133,
   "id": "3f95ebd0",
   "metadata": {},
   "outputs": [],
   "source": [
    "X_fit, X_val, y_fit, y_val = train_test_split(X_train, y_train, test_size=0.1, stratify=y_train, random_state=44)"
   ]
  },
  {
   "cell_type": "code",
   "execution_count": 125,
   "id": "04b276ac",
   "metadata": {},
   "outputs": [
    {
     "name": "stdout",
     "output_type": "stream",
     "text": [
      "(5000, 1346)\n",
      "(4500, 1346) (500, 1346)\n",
      "(4500,) (500,)\n"
     ]
    }
   ],
   "source": [
    "print(X_train.shape)\n",
    "print(X_fit.shape, X_val.shape)\n",
    "print(y_fit.shape, y_val.shape)"
   ]
  },
  {
   "cell_type": "markdown",
   "id": "e0566912",
   "metadata": {},
   "source": [
    "#### 6-1) CountVectorize, TF-IDF\n",
    "##### LogisticReg"
   ]
  },
  {
   "cell_type": "code",
   "execution_count": 134,
   "id": "9339497c",
   "metadata": {},
   "outputs": [
    {
     "data": {
      "text/plain": [
       "0.824"
      ]
     },
     "execution_count": 134,
     "metadata": {},
     "output_type": "execute_result"
    }
   ],
   "source": [
    "l_reg.fit(X_fit, y_fit)\n",
    "pred_val = l_reg.predict(X_val)\n",
    "\n",
    "accuracy_score(y_val, pred_val)"
   ]
  },
  {
   "cell_type": "markdown",
   "id": "fef59f73",
   "metadata": {},
   "source": [
    "##### RandomForest"
   ]
  },
  {
   "cell_type": "code",
   "execution_count": 135,
   "id": "e5165db2",
   "metadata": {},
   "outputs": [
    {
     "data": {
      "text/plain": [
       "0.808"
      ]
     },
     "execution_count": 135,
     "metadata": {},
     "output_type": "execute_result"
    }
   ],
   "source": [
    "rf_clf.fit(X_fit, y_fit)\n",
    "pred_val = rf_clf.predict(X_val)\n",
    "\n",
    "accuracy_score(y_val, pred_val)"
   ]
  },
  {
   "cell_type": "markdown",
   "id": "e6d77bb4",
   "metadata": {},
   "source": [
    "##### LightGBM"
   ]
  },
  {
   "cell_type": "code",
   "execution_count": 89,
   "id": "6bc06450",
   "metadata": {},
   "outputs": [],
   "source": [
    "X_fit = X_fit.astype(np.float32)\n",
    "X_val = X_val.astype(np.float32)"
   ]
  },
  {
   "cell_type": "code",
   "execution_count": 136,
   "id": "cc9de4df",
   "metadata": {},
   "outputs": [
    {
     "data": {
      "text/plain": [
       "0.82"
      ]
     },
     "execution_count": 136,
     "metadata": {},
     "output_type": "execute_result"
    }
   ],
   "source": [
    "lgbm_clf.fit(X_fit, y_fit)\n",
    "pred_val = lgbm_clf.predict(X_val)\n",
    "\n",
    "accuracy_score(y_val, pred_val)"
   ]
  },
  {
   "cell_type": "markdown",
   "id": "d7e64f63",
   "metadata": {},
   "source": [
    "##### Naive Bayes"
   ]
  },
  {
   "cell_type": "code",
   "execution_count": 137,
   "id": "5b28e8be",
   "metadata": {},
   "outputs": [
    {
     "data": {
      "text/plain": [
       "0.802"
      ]
     },
     "execution_count": 137,
     "metadata": {},
     "output_type": "execute_result"
    }
   ],
   "source": [
    "bnb_clf.fit(X_fit, y_fit)\n",
    "pred_val = bnb_clf.predict(X_val)\n",
    "\n",
    "accuracy_score(y_val, pred_val)"
   ]
  },
  {
   "cell_type": "code",
   "execution_count": null,
   "id": "fcddff99",
   "metadata": {},
   "outputs": [],
   "source": []
  }
 ],
 "metadata": {
  "kernelspec": {
   "display_name": "Python 3",
   "language": "python",
   "name": "python3"
  },
  "language_info": {
   "codemirror_mode": {
    "name": "ipython",
    "version": 3
   },
   "file_extension": ".py",
   "mimetype": "text/x-python",
   "name": "python",
   "nbconvert_exporter": "python",
   "pygments_lexer": "ipython3",
   "version": "3.8.8"
  }
 },
 "nbformat": 4,
 "nbformat_minor": 5
}
